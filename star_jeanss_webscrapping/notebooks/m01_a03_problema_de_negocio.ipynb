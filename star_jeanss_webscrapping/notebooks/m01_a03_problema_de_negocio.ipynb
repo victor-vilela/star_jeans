{
 "cells": [
  {
   "cell_type": "markdown",
   "id": "ced2b50a",
   "metadata": {},
   "source": [
    "# Curso de Python do DS ao DEV"
   ]
  },
  {
   "cell_type": "markdown",
   "id": "7fd0f6f1",
   "metadata": {},
   "source": [
    "## Aula 3 - O problema de negócio"
   ]
  },
  {
   "cell_type": "markdown",
   "id": "e69d710d",
   "metadata": {},
   "source": [
    "### 3.1 - A empresa Star Jeans!"
   ]
  },
  {
   "cell_type": "markdown",
   "id": "3f6a0066",
   "metadata": {},
   "source": [
    "Eduardo e Marcelo são dois brasileiros, amigos e sócios de empreendimento. Depois de vários\n",
    "negócio bem sucedidos, eles estão planejando entrar no mercado de moda dos USA como um\n",
    "modelo de negócio do tipo E-commerce.<br><br>\n",
    "A idéia inicial é entrar no mercado com apenas um produto e para um público específico, no caso\n",
    "o produto seria calças Jenas para o público masculino. O objetivo é manter o custo de operação\n",
    "baixo e escalar a medida que forem conseguindo clientes.<br><br>\n",
    "Porém, mesmo com o produto de entrada e a audiência definidos, os dois sócios não tem experiência\n",
    "nesse mercado de moda e portanto não sabem definir coisas básicas como preço, o tipo de calça e\n",
    "o material para a fabricação de cada peça.<br><br>\n",
    "Assim, os dois sócios contrataram uma consultoria de Ciência de Dados para responder as seguintes\n",
    "perguntas: 1. Qual o melhor preço de venda para as calças? 2. Quantos tipos de calças e suas\n",
    "cores para o produto inicial? 3. Quais as matérias-prima necessárias para confeccionar as calças?<br><br>\n",
    "As principais concorrentes da empresa Start Jeans são as americadas H&M e Macys."
   ]
  },
  {
   "cell_type": "code",
   "execution_count": null,
   "id": "48968f01",
   "metadata": {},
   "outputs": [],
   "source": []
  }
 ],
 "metadata": {
  "kernelspec": {
   "display_name": "Python 3 (ipykernel)",
   "language": "python",
   "name": "python3"
  },
  "language_info": {
   "codemirror_mode": {
    "name": "ipython",
    "version": 3
   },
   "file_extension": ".py",
   "mimetype": "text/x-python",
   "name": "python",
   "nbconvert_exporter": "python",
   "pygments_lexer": "ipython3",
   "version": "3.8.13"
  }
 },
 "nbformat": 4,
 "nbformat_minor": 5
}
