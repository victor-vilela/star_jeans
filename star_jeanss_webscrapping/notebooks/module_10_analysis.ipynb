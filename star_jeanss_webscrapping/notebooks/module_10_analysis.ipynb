{
 "cells": [
  {
   "cell_type": "markdown",
   "id": "973db22f",
   "metadata": {},
   "source": [
    "# Módulo 09 - Análise de Dados"
   ]
  },
  {
   "cell_type": "markdown",
   "id": "a753956f",
   "metadata": {},
   "source": [
    "## 0 - Imports"
   ]
  },
  {
   "cell_type": "code",
   "execution_count": 28,
   "id": "47f3a13c",
   "metadata": {},
   "outputs": [],
   "source": [
    "import pandas as pd\n",
    "from sqlalchemy import create_engine\n",
    "import numpy as np\n",
    "from IPython.display import Image"
   ]
  },
  {
   "cell_type": "markdown",
   "id": "245faa24",
   "metadata": {},
   "source": [
    "### 0.1 - Data Collection"
   ]
  },
  {
   "cell_type": "code",
   "execution_count": 2,
   "id": "0c04ad7f",
   "metadata": {},
   "outputs": [],
   "source": [
    "path = '/home/vvilela/repos/python_ds_dev/'\n",
    "database_name = 'database_hm.sqlite'\n",
    "conn = create_engine( 'sqlite:///' + path + database_name, echo=False )"
   ]
  },
  {
   "cell_type": "code",
   "execution_count": 3,
   "id": "333d760c",
   "metadata": {},
   "outputs": [],
   "source": [
    "query = \"\"\"\n",
    "    SELECT * FROM vitrine\n",
    "\"\"\""
   ]
  },
  {
   "cell_type": "code",
   "execution_count": 4,
   "id": "ca83b58c",
   "metadata": {},
   "outputs": [],
   "source": [
    "df_raw = pd.read_sql_query( query, con=conn )"
   ]
  },
  {
   "cell_type": "markdown",
   "id": "af292f94",
   "metadata": {},
   "source": [
    "## 1 - Passo 01 - Descrição dos Dados"
   ]
  },
  {
   "cell_type": "markdown",
   "id": "0e61600d",
   "metadata": {},
   "source": [
    "### 1.1 - Dimensão dos Dados"
   ]
  },
  {
   "cell_type": "code",
   "execution_count": 5,
   "id": "12d090ce",
   "metadata": {},
   "outputs": [],
   "source": [
    "df01 = df_raw.copy()"
   ]
  },
  {
   "cell_type": "code",
   "execution_count": 6,
   "id": "947794b6",
   "metadata": {},
   "outputs": [
    {
     "name": "stdout",
     "output_type": "stream",
     "text": [
      "Number of rows: 282\n",
      "Number of columns: 14\n"
     ]
    }
   ],
   "source": [
    "print( 'Number of rows: {}'.format(df01.shape[0]))\n",
    "print( 'Number of columns: {}'.format(df01.shape[1]))"
   ]
  },
  {
   "cell_type": "markdown",
   "id": "51867bab",
   "metadata": {},
   "source": [
    "### 1.2 - Tipo dos Dados"
   ]
  },
  {
   "cell_type": "code",
   "execution_count": 7,
   "id": "61779fbe",
   "metadata": {},
   "outputs": [
    {
     "data": {
      "text/plain": [
       "product_id           object\n",
       "style_id             object\n",
       "color_id             object\n",
       "product_name         object\n",
       "product_color        object\n",
       "fit                  object\n",
       "product_price       float64\n",
       "size_number          object\n",
       "size_model           object\n",
       "cotton              float64\n",
       "polyester           float64\n",
       "elastomultiester    float64\n",
       "spandex             float64\n",
       "scrapy_datetime      object\n",
       "dtype: object"
      ]
     },
     "execution_count": 7,
     "metadata": {},
     "output_type": "execute_result"
    }
   ],
   "source": [
    "df01.dtypes"
   ]
  },
  {
   "cell_type": "code",
   "execution_count": 8,
   "id": "28359577",
   "metadata": {},
   "outputs": [],
   "source": [
    "# conver object to datetime\n",
    "df01['scrapy_datetime'] = pd.to_datetime( df01['scrapy_datetime'] )"
   ]
  },
  {
   "cell_type": "code",
   "execution_count": 9,
   "id": "5c0b3168",
   "metadata": {},
   "outputs": [
    {
     "data": {
      "text/plain": [
       "product_id                  object\n",
       "style_id                    object\n",
       "color_id                    object\n",
       "product_name                object\n",
       "product_color               object\n",
       "fit                         object\n",
       "product_price              float64\n",
       "size_number                 object\n",
       "size_model                  object\n",
       "cotton                     float64\n",
       "polyester                  float64\n",
       "elastomultiester           float64\n",
       "spandex                    float64\n",
       "scrapy_datetime     datetime64[ns]\n",
       "dtype: object"
      ]
     },
     "execution_count": 9,
     "metadata": {},
     "output_type": "execute_result"
    }
   ],
   "source": [
    "df01.dtypes"
   ]
  },
  {
   "cell_type": "markdown",
   "id": "01333370",
   "metadata": {},
   "source": [
    "### 1.3 - Identificação dos Dados Faltantes"
   ]
  },
  {
   "cell_type": "code",
   "execution_count": 10,
   "id": "ada306fd",
   "metadata": {},
   "outputs": [
    {
     "data": {
      "text/plain": [
       "product_id            0\n",
       "style_id              0\n",
       "color_id              0\n",
       "product_name          0\n",
       "product_color         0\n",
       "fit                   0\n",
       "product_price         0\n",
       "size_number         244\n",
       "size_model          244\n",
       "cotton                0\n",
       "polyester             0\n",
       "elastomultiester      0\n",
       "spandex               0\n",
       "scrapy_datetime       0\n",
       "dtype: int64"
      ]
     },
     "execution_count": 10,
     "metadata": {},
     "output_type": "execute_result"
    }
   ],
   "source": [
    "df01.isna().sum()"
   ]
  },
  {
   "cell_type": "code",
   "execution_count": 11,
   "id": "e856685a",
   "metadata": {},
   "outputs": [
    {
     "data": {
      "text/plain": [
       "product_id          0.000000\n",
       "style_id            0.000000\n",
       "color_id            0.000000\n",
       "product_name        0.000000\n",
       "product_color       0.000000\n",
       "fit                 0.000000\n",
       "product_price       0.000000\n",
       "size_number         0.865248\n",
       "size_model          0.865248\n",
       "cotton              0.000000\n",
       "polyester           0.000000\n",
       "elastomultiester    0.000000\n",
       "spandex             0.000000\n",
       "scrapy_datetime     0.000000\n",
       "dtype: float64"
      ]
     },
     "execution_count": 11,
     "metadata": {},
     "output_type": "execute_result"
    }
   ],
   "source": [
    "df01.isna().sum() / df01.shape[0]"
   ]
  },
  {
   "cell_type": "markdown",
   "id": "f77d0b62",
   "metadata": {},
   "source": [
    "### 1.4 - Substituição dos Dados Faltantes"
   ]
  },
  {
   "cell_type": "code",
   "execution_count": 12,
   "id": "eff567a5",
   "metadata": {},
   "outputs": [],
   "source": [
    "df01 = df01.drop(columns = ['size_number', 'size_model']).dropna()"
   ]
  },
  {
   "cell_type": "markdown",
   "id": "3a46171f",
   "metadata": {},
   "source": [
    "### 1.5 - Descrição dos Dados"
   ]
  },
  {
   "cell_type": "code",
   "execution_count": 13,
   "id": "096fa3a8",
   "metadata": {},
   "outputs": [],
   "source": [
    "num_attribute = df01.select_dtypes( include=['int64', 'float64'])\n",
    "cat_attribute = df01.select_dtypes( exclude=['int64', 'float64', 'datetime64[ns]'])"
   ]
  },
  {
   "cell_type": "markdown",
   "id": "c2fa6ae7",
   "metadata": {},
   "source": [
    "#### 1.5.1 - Numerical Data"
   ]
  },
  {
   "cell_type": "code",
   "execution_count": 14,
   "id": "ee2de417",
   "metadata": {},
   "outputs": [
    {
     "data": {
      "text/html": [
       "<div>\n",
       "<style scoped>\n",
       "    .dataframe tbody tr th:only-of-type {\n",
       "        vertical-align: middle;\n",
       "    }\n",
       "\n",
       "    .dataframe tbody tr th {\n",
       "        vertical-align: top;\n",
       "    }\n",
       "\n",
       "    .dataframe thead th {\n",
       "        text-align: right;\n",
       "    }\n",
       "</style>\n",
       "<table border=\"1\" class=\"dataframe\">\n",
       "  <thead>\n",
       "    <tr style=\"text-align: right;\">\n",
       "      <th></th>\n",
       "      <th>attributes</th>\n",
       "      <th>min</th>\n",
       "      <th>max</th>\n",
       "      <th>range</th>\n",
       "      <th>media</th>\n",
       "      <th>mediana</th>\n",
       "      <th>std</th>\n",
       "      <th>skew</th>\n",
       "      <th>kurtosis</th>\n",
       "    </tr>\n",
       "  </thead>\n",
       "  <tbody>\n",
       "    <tr>\n",
       "      <th>0</th>\n",
       "      <td>product_price</td>\n",
       "      <td>7.99</td>\n",
       "      <td>49.99</td>\n",
       "      <td>42.00</td>\n",
       "      <td>10.241720</td>\n",
       "      <td>26.809149</td>\n",
       "      <td>22.99</td>\n",
       "      <td>0.707784</td>\n",
       "      <td>-0.363797</td>\n",
       "    </tr>\n",
       "    <tr>\n",
       "      <th>1</th>\n",
       "      <td>cotton</td>\n",
       "      <td>0.77</td>\n",
       "      <td>1.00</td>\n",
       "      <td>0.23</td>\n",
       "      <td>0.060639</td>\n",
       "      <td>0.968723</td>\n",
       "      <td>0.99</td>\n",
       "      <td>-2.527530</td>\n",
       "      <td>4.933861</td>\n",
       "    </tr>\n",
       "    <tr>\n",
       "      <th>2</th>\n",
       "      <td>polyester</td>\n",
       "      <td>0.00</td>\n",
       "      <td>1.00</td>\n",
       "      <td>1.00</td>\n",
       "      <td>0.341348</td>\n",
       "      <td>0.291738</td>\n",
       "      <td>0.00</td>\n",
       "      <td>0.543038</td>\n",
       "      <td>-1.359736</td>\n",
       "    </tr>\n",
       "    <tr>\n",
       "      <th>3</th>\n",
       "      <td>elastomultiester</td>\n",
       "      <td>0.00</td>\n",
       "      <td>0.09</td>\n",
       "      <td>0.09</td>\n",
       "      <td>0.019333</td>\n",
       "      <td>0.004574</td>\n",
       "      <td>0.00</td>\n",
       "      <td>4.025848</td>\n",
       "      <td>14.373866</td>\n",
       "    </tr>\n",
       "    <tr>\n",
       "      <th>4</th>\n",
       "      <td>spandex</td>\n",
       "      <td>0.00</td>\n",
       "      <td>0.02</td>\n",
       "      <td>0.02</td>\n",
       "      <td>0.006611</td>\n",
       "      <td>0.012128</td>\n",
       "      <td>0.01</td>\n",
       "      <td>-0.263802</td>\n",
       "      <td>-0.761313</td>\n",
       "    </tr>\n",
       "  </tbody>\n",
       "</table>\n",
       "</div>"
      ],
      "text/plain": [
       "         attributes   min    max  range      media    mediana    std  \\\n",
       "0     product_price  7.99  49.99  42.00  10.241720  26.809149  22.99   \n",
       "1            cotton  0.77   1.00   0.23   0.060639   0.968723   0.99   \n",
       "2         polyester  0.00   1.00   1.00   0.341348   0.291738   0.00   \n",
       "3  elastomultiester  0.00   0.09   0.09   0.019333   0.004574   0.00   \n",
       "4           spandex  0.00   0.02   0.02   0.006611   0.012128   0.01   \n",
       "\n",
       "       skew   kurtosis  \n",
       "0  0.707784  -0.363797  \n",
       "1 -2.527530   4.933861  \n",
       "2  0.543038  -1.359736  \n",
       "3  4.025848  14.373866  \n",
       "4 -0.263802  -0.761313  "
      ]
     },
     "execution_count": 14,
     "metadata": {},
     "output_type": "execute_result"
    }
   ],
   "source": [
    "# tendencia central - media, mediana\n",
    "t1 = pd.DataFrame( num_attribute.apply( np.mean ) ).T\n",
    "t2 = pd.DataFrame( num_attribute.apply( np.median ) ).T\n",
    "\n",
    "# dispersion - std, min, max, range, skew, kurtosis\n",
    "d1 = pd.DataFrame( num_attribute.apply( np.std ) ).T\n",
    "d2 = pd.DataFrame( num_attribute.apply( np.min ) ).T\n",
    "d3 = pd.DataFrame( num_attribute.apply( np.max ) ).T\n",
    "d4 = pd.DataFrame( num_attribute.apply( lambda x: x.max() - x.min() ) ).T\n",
    "d5 = pd.DataFrame( num_attribute.apply( lambda x: x.skew() ) ).T\n",
    "d6 = pd.DataFrame( num_attribute.apply( lambda x: x.kurtosis() ) ).T\n",
    "\n",
    "# concat\n",
    "m1 = pd.concat( [d2, d3, d4, d1, t1, t2, d5, d6] ).T.reset_index()\n",
    "m1.columns = ['attributes', 'min', 'max', 'range', 'media', 'mediana', 'std', 'skew', 'kurtosis']\n",
    "m1"
   ]
  },
  {
   "cell_type": "markdown",
   "id": "665fb5ec",
   "metadata": {},
   "source": [
    "##### Mínimo"
   ]
  },
  {
   "cell_type": "markdown",
   "id": "44ed5cfb",
   "metadata": {},
   "source": [
    "- Menor valor do conjunto de dados"
   ]
  },
  {
   "cell_type": "markdown",
   "id": "fbff2f9c",
   "metadata": {},
   "source": [
    "##### Máximo"
   ]
  },
  {
   "cell_type": "markdown",
   "id": "cdee6931",
   "metadata": {},
   "source": [
    "- Maior valor do conjunto de dados"
   ]
  },
  {
   "cell_type": "markdown",
   "id": "142f3284",
   "metadata": {},
   "source": [
    "##### Intervalo"
   ]
  },
  {
   "cell_type": "markdown",
   "id": "bc39c4bc",
   "metadata": {},
   "source": [
    "- Estimativa de variabilidade ou dispersão\n",
    "- Definição: A diferencça entre o valor máximo e o valor mínimo"
   ]
  },
  {
   "cell_type": "markdown",
   "id": "2a758d8d",
   "metadata": {},
   "source": [
    "##### Média"
   ]
  },
  {
   "cell_type": "markdown",
   "id": "3ce17974",
   "metadata": {},
   "source": [
    "- Definição: A média é a soma de todos os valor do conjunto de dados, dividido pelo número de valores\n",
    "- Exemplo: [ 3, 5, 1, 2 ]\n",
    "    - Média: ( 3 + 5 + 1 + 2 ) = 11 / 4 = 2.75"
   ]
  },
  {
   "cell_type": "code",
   "execution_count": 16,
   "id": "1e42577d",
   "metadata": {},
   "outputs": [
    {
     "data": {
      "text/plain": [
       "2.75"
      ]
     },
     "execution_count": 16,
     "metadata": {},
     "output_type": "execute_result"
    }
   ],
   "source": [
    "np.mean([3,5,1,2])"
   ]
  },
  {
   "cell_type": "markdown",
   "id": "2f46706f",
   "metadata": {},
   "source": [
    "##### Mediana"
   ]
  },
  {
   "cell_type": "markdown",
   "id": "06753f4e",
   "metadata": {},
   "source": [
    "- Definição: A mediana é o número do meio de uma lista ordenada\n",
    "\n",
    "- Exemplo: [ 3, 5, 1, 2 ]\n",
    "- Mediana: \n",
    "    - Ordenação dos dados: [ 1, 2, 3, 5 ]\n",
    "    - Posição Central: <i>Média dos Pontos Centrais</i> -> ( 2 + 3 ) / 2 = 2.5\n",
    "\n",
    "- Exemplo: [ 1, 3, 6, 7, 10 ]\n",
    "- Mediana: \n",
    "    - Ordenação dos dados: [ 1, 3, 6, 7, 10 ]\n",
    "    - Posição Central: 6"
   ]
  },
  {
   "cell_type": "markdown",
   "id": "406503f3",
   "metadata": {},
   "source": [
    "##### Desvio Padrão"
   ]
  },
  {
   "cell_type": "markdown",
   "id": "b51e738d",
   "metadata": {},
   "source": [
    "- Estimativa de variabilidade ou dispersão\n",
    "    - Mede os valores do conjunto que estão próximos ou espalhados em torno de um ponto central\n",
    "<br><br>\n",
    "- Exemplo: [ 1, 5, 7, 10, 15 ] -> Média 7.6\n",
    "<br><br>\n",
    "- Desvio: A diferença entre os valores observados e a estimativa de localização ( média ou mediana ). Mostra quão disperso os dados estão em torno do médio.\n",
    "        -> 1 - 7.6 = -6.6\n",
    "        -> 5 - 7.6 = -2.6\n",
    "        -> 7 - 7.6 = -0.6\n",
    "        -> 10 - 7.6 = 2.4\n",
    "        -> 15 - 7.6 = 7.4\n",
    "        \n",
    "- Variância: A soma dos desvios da média ao quadrado, dividido por n-1, onde n é o número do meu conjunto de dados ( amostra ). Resume os desvios em um único número.\n",
    "        -> 1 - 7.6 = (-6.6)**2 = 43.56\n",
    "        -> 5 - 7.6 = (-2.6)**2 = 6.76\n",
    "        -> 7 - 7.6 = (-0.6)**2 = 0.36\n",
    "        -> 10 - 7.6 = (2.4)**2 = 5.76\n",
    "        -> 15 - 7.6 = (7.4)**2 = 54.76\n",
    "\n",
    "    - Soma: ( 43.56 + 6.76 + 0.36 + 5.76 + 54.76 ) = 111.2 / (5-1) -> 27.8\n",
    "<br><br>\n",
    "- Desvio Padrão: A raíz quadradada da variância. O desvio padrão é muito mais fácil de interpretar do que a variância, porque essa métrica está na mesma escala dos dados originais\n",
    "    - Desvio Padrão = sqrt( 27.8 ) -> 5.27"
   ]
  },
  {
   "cell_type": "code",
   "execution_count": 27,
   "id": "4de22c6a",
   "metadata": {},
   "outputs": [
    {
     "data": {
      "text/plain": [
       "5.272570530585627"
      ]
     },
     "execution_count": 27,
     "metadata": {},
     "output_type": "execute_result"
    }
   ],
   "source": [
    "np.std([ 1, 5, 7, 10, 15 ], ddof=1)"
   ]
  },
  {
   "cell_type": "markdown",
   "id": "9a83eced",
   "metadata": {},
   "source": [
    "##### Skewness"
   ]
  },
  {
   "cell_type": "markdown",
   "id": "7e988efd",
   "metadata": {},
   "source": [
    "- É a medida do quanto uma distribuição de dados desvia de uma distribuição normal\n",
    "- Sendo que a distribuição normal não possui skewness, ou seja, os dados estão distribuídos perfeitamente ao redor da média.\n",
    "<br><br>\n",
    "- Skewness Positiva e Negativa:\n",
    "    - Mediana > Media = Deslocamento para a direita -> Skewness Negativa\n",
    "    - Mediana == Media = Não tem deslocamento -> Não tenho Skewness\n",
    "    - Mediana < Media = Deslocamento para a esquerda -> Skewness Positiva\n",
    "    \n",
    "- Como interpretar a Skewness nos dados:\n",
    "    - A Skewness mostra a concentração dos dados de um lado da média.\n",
    "    - Algoritmos de ML precisa treinar com dados não enviesados, ou seja, a distribuição da variável resposta ( alvo ) precisa ser o mais próximo de uma distribuição normal"
   ]
  },
  {
   "cell_type": "code",
   "execution_count": 29,
   "id": "e6958c36",
   "metadata": {},
   "outputs": [
    {
     "data": {
      "image/png": "[encoded data removed]",
      "text/plain": [
       "<IPython.core.display.Image object>"
      ]
     },
     "execution_count": 29,
     "metadata": {
      "image/png": {
       "height": 900,
       "width": 900
      }
     },
     "output_type": "execute_result"
    }
   ],
   "source": [
    "PATH = 'photos/skew.PNG'\n",
    "Image( filename = PATH, width=900, height=900)"
   ]
  },
  {
   "cell_type": "markdown",
   "id": "468002bd",
   "metadata": {},
   "source": [
    "##### Kurtosis"
   ]
  },
  {
   "cell_type": "code",
   "execution_count": null,
   "id": "c013267a",
   "metadata": {},
   "outputs": [],
   "source": [
    "- Kurtosis descreve a distribuição dos dados em torno da média.\n",
    "- Evidencia uma distribuição de caudas longas ( probabilidade de acontecer valores extremos )"
   ]
  },
  {
   "cell_type": "markdown",
   "id": "b07c4e36",
   "metadata": {},
   "source": [
    "##### Momentos da Estatística"
   ]
  },
  {
   "cell_type": "markdown",
   "id": "6da2342e",
   "metadata": {},
   "source": [
    "- Momento 1: Estimativa de localização ( Média ou Mediana )\n",
    "- Momento 2: Estimativa de variabilidade ( Desvios, Variância, Desvio Padrão )\n",
    "- Momento 3: Skewness ( Assimetria da distribuição dos dados em relação a média )\n",
    "- Momento 4: Kurtosis ( Evidência de caudas longas ( probabilidade de acontecer valores extremos ) )"
   ]
  },
  {
   "cell_type": "markdown",
   "id": "060d67b5",
   "metadata": {},
   "source": [
    "#### 1.5.2 - Categorical Data"
   ]
  },
  {
   "cell_type": "code",
   "execution_count": 15,
   "id": "cb3e42c3",
   "metadata": {},
   "outputs": [
    {
     "data": {
      "text/html": [
       "<div>\n",
       "<style scoped>\n",
       "    .dataframe tbody tr th:only-of-type {\n",
       "        vertical-align: middle;\n",
       "    }\n",
       "\n",
       "    .dataframe tbody tr th {\n",
       "        vertical-align: top;\n",
       "    }\n",
       "\n",
       "    .dataframe thead th {\n",
       "        text-align: right;\n",
       "    }\n",
       "</style>\n",
       "<table border=\"1\" class=\"dataframe\">\n",
       "  <thead>\n",
       "    <tr style=\"text-align: right;\">\n",
       "      <th></th>\n",
       "      <th>product_id</th>\n",
       "      <th>style_id</th>\n",
       "      <th>color_id</th>\n",
       "      <th>product_name</th>\n",
       "      <th>product_color</th>\n",
       "      <th>fit</th>\n",
       "      <th>product_price</th>\n",
       "      <th>cotton</th>\n",
       "      <th>polyester</th>\n",
       "      <th>elastomultiester</th>\n",
       "      <th>spandex</th>\n",
       "      <th>scrapy_datetime</th>\n",
       "    </tr>\n",
       "  </thead>\n",
       "  <tbody>\n",
       "    <tr>\n",
       "      <th>0</th>\n",
       "      <td>0690449001</td>\n",
       "      <td>0690449</td>\n",
       "      <td>001</td>\n",
       "      <td>skinny_jeans</td>\n",
       "      <td>light_denim_blue/trashed</td>\n",
       "      <td>skinny_fit</td>\n",
       "      <td>13.99</td>\n",
       "      <td>0.99</td>\n",
       "      <td>0.00</td>\n",
       "      <td>0.0</td>\n",
       "      <td>0.01</td>\n",
       "      <td>2022-07-03 10:59:13</td>\n",
       "    </tr>\n",
       "    <tr>\n",
       "      <th>1</th>\n",
       "      <td>0690449002</td>\n",
       "      <td>0690449</td>\n",
       "      <td>002</td>\n",
       "      <td>skinny_jeans</td>\n",
       "      <td>denim_blue</td>\n",
       "      <td>skinny_fit</td>\n",
       "      <td>14.99</td>\n",
       "      <td>0.98</td>\n",
       "      <td>0.00</td>\n",
       "      <td>0.0</td>\n",
       "      <td>0.02</td>\n",
       "      <td>2022-07-03 10:59:13</td>\n",
       "    </tr>\n",
       "    <tr>\n",
       "      <th>2</th>\n",
       "      <td>0690449006</td>\n",
       "      <td>0690449</td>\n",
       "      <td>006</td>\n",
       "      <td>skinny_jeans</td>\n",
       "      <td>black/washed</td>\n",
       "      <td>skinny_fit</td>\n",
       "      <td>7.99</td>\n",
       "      <td>1.00</td>\n",
       "      <td>0.00</td>\n",
       "      <td>0.0</td>\n",
       "      <td>0.02</td>\n",
       "      <td>2022-07-03 10:59:13</td>\n",
       "    </tr>\n",
       "    <tr>\n",
       "      <th>3</th>\n",
       "      <td>0690449007</td>\n",
       "      <td>0690449</td>\n",
       "      <td>007</td>\n",
       "      <td>skinny_jeans</td>\n",
       "      <td>light_denim_blue</td>\n",
       "      <td>skinny_fit</td>\n",
       "      <td>14.99</td>\n",
       "      <td>1.00</td>\n",
       "      <td>0.00</td>\n",
       "      <td>0.0</td>\n",
       "      <td>0.02</td>\n",
       "      <td>2022-07-03 10:59:13</td>\n",
       "    </tr>\n",
       "    <tr>\n",
       "      <th>4</th>\n",
       "      <td>0690449009</td>\n",
       "      <td>0690449</td>\n",
       "      <td>009</td>\n",
       "      <td>skinny_jeans</td>\n",
       "      <td>black_washed_out</td>\n",
       "      <td>skinny_fit</td>\n",
       "      <td>17.99</td>\n",
       "      <td>0.99</td>\n",
       "      <td>0.00</td>\n",
       "      <td>0.0</td>\n",
       "      <td>0.01</td>\n",
       "      <td>2022-07-03 10:59:13</td>\n",
       "    </tr>\n",
       "    <tr>\n",
       "      <th>...</th>\n",
       "      <td>...</td>\n",
       "      <td>...</td>\n",
       "      <td>...</td>\n",
       "      <td>...</td>\n",
       "      <td>...</td>\n",
       "      <td>...</td>\n",
       "      <td>...</td>\n",
       "      <td>...</td>\n",
       "      <td>...</td>\n",
       "      <td>...</td>\n",
       "      <td>...</td>\n",
       "      <td>...</td>\n",
       "    </tr>\n",
       "    <tr>\n",
       "      <th>277</th>\n",
       "      <td>1024256005</td>\n",
       "      <td>1024256</td>\n",
       "      <td>005</td>\n",
       "      <td>slim_jeans</td>\n",
       "      <td>dark_blue</td>\n",
       "      <td>slim_fit</td>\n",
       "      <td>19.99</td>\n",
       "      <td>0.99</td>\n",
       "      <td>0.65</td>\n",
       "      <td>0.0</td>\n",
       "      <td>0.01</td>\n",
       "      <td>2022-07-03 19:22:11</td>\n",
       "    </tr>\n",
       "    <tr>\n",
       "      <th>278</th>\n",
       "      <td>1024256006</td>\n",
       "      <td>1024256</td>\n",
       "      <td>006</td>\n",
       "      <td>slim_jeans</td>\n",
       "      <td>dark_denim_blue</td>\n",
       "      <td>slim_fit</td>\n",
       "      <td>19.99</td>\n",
       "      <td>1.00</td>\n",
       "      <td>0.00</td>\n",
       "      <td>0.0</td>\n",
       "      <td>0.01</td>\n",
       "      <td>2022-07-03 19:22:11</td>\n",
       "    </tr>\n",
       "    <tr>\n",
       "      <th>279</th>\n",
       "      <td>1024256007</td>\n",
       "      <td>1024256</td>\n",
       "      <td>007</td>\n",
       "      <td>slim_jeans</td>\n",
       "      <td>dark_gray</td>\n",
       "      <td>slim_fit</td>\n",
       "      <td>19.99</td>\n",
       "      <td>0.99</td>\n",
       "      <td>0.65</td>\n",
       "      <td>0.0</td>\n",
       "      <td>0.01</td>\n",
       "      <td>2022-07-03 19:22:11</td>\n",
       "    </tr>\n",
       "    <tr>\n",
       "      <th>280</th>\n",
       "      <td>1024256008</td>\n",
       "      <td>1024256</td>\n",
       "      <td>008</td>\n",
       "      <td>slim_jeans</td>\n",
       "      <td>white</td>\n",
       "      <td>slim_fit</td>\n",
       "      <td>19.99</td>\n",
       "      <td>1.00</td>\n",
       "      <td>0.00</td>\n",
       "      <td>0.0</td>\n",
       "      <td>0.01</td>\n",
       "      <td>2022-07-03 19:22:11</td>\n",
       "    </tr>\n",
       "    <tr>\n",
       "      <th>281</th>\n",
       "      <td>1074475001</td>\n",
       "      <td>1074475</td>\n",
       "      <td>001</td>\n",
       "      <td>loose_jeans</td>\n",
       "      <td>light_denim_blue</td>\n",
       "      <td>loose_fit</td>\n",
       "      <td>39.99</td>\n",
       "      <td>1.00</td>\n",
       "      <td>0.65</td>\n",
       "      <td>0.0</td>\n",
       "      <td>0.00</td>\n",
       "      <td>2022-07-03 19:22:11</td>\n",
       "    </tr>\n",
       "  </tbody>\n",
       "</table>\n",
       "<p>282 rows × 12 columns</p>\n",
       "</div>"
      ],
      "text/plain": [
       "     product_id style_id color_id  product_name             product_color  \\\n",
       "0    0690449001  0690449      001  skinny_jeans  light_denim_blue/trashed   \n",
       "1    0690449002  0690449      002  skinny_jeans                denim_blue   \n",
       "2    0690449006  0690449      006  skinny_jeans              black/washed   \n",
       "3    0690449007  0690449      007  skinny_jeans          light_denim_blue   \n",
       "4    0690449009  0690449      009  skinny_jeans          black_washed_out   \n",
       "..          ...      ...      ...           ...                       ...   \n",
       "277  1024256005  1024256      005    slim_jeans                 dark_blue   \n",
       "278  1024256006  1024256      006    slim_jeans           dark_denim_blue   \n",
       "279  1024256007  1024256      007    slim_jeans                 dark_gray   \n",
       "280  1024256008  1024256      008    slim_jeans                     white   \n",
       "281  1074475001  1074475      001   loose_jeans          light_denim_blue   \n",
       "\n",
       "            fit  product_price  cotton  polyester  elastomultiester  spandex  \\\n",
       "0    skinny_fit          13.99    0.99       0.00               0.0     0.01   \n",
       "1    skinny_fit          14.99    0.98       0.00               0.0     0.02   \n",
       "2    skinny_fit           7.99    1.00       0.00               0.0     0.02   \n",
       "3    skinny_fit          14.99    1.00       0.00               0.0     0.02   \n",
       "4    skinny_fit          17.99    0.99       0.00               0.0     0.01   \n",
       "..          ...            ...     ...        ...               ...      ...   \n",
       "277    slim_fit          19.99    0.99       0.65               0.0     0.01   \n",
       "278    slim_fit          19.99    1.00       0.00               0.0     0.01   \n",
       "279    slim_fit          19.99    0.99       0.65               0.0     0.01   \n",
       "280    slim_fit          19.99    1.00       0.00               0.0     0.01   \n",
       "281   loose_fit          39.99    1.00       0.65               0.0     0.00   \n",
       "\n",
       "        scrapy_datetime  \n",
       "0   2022-07-03 10:59:13  \n",
       "1   2022-07-03 10:59:13  \n",
       "2   2022-07-03 10:59:13  \n",
       "3   2022-07-03 10:59:13  \n",
       "4   2022-07-03 10:59:13  \n",
       "..                  ...  \n",
       "277 2022-07-03 19:22:11  \n",
       "278 2022-07-03 19:22:11  \n",
       "279 2022-07-03 19:22:11  \n",
       "280 2022-07-03 19:22:11  \n",
       "281 2022-07-03 19:22:11  \n",
       "\n",
       "[282 rows x 12 columns]"
      ]
     },
     "execution_count": 15,
     "metadata": {},
     "output_type": "execute_result"
    }
   ],
   "source": [
    "df01"
   ]
  },
  {
   "cell_type": "markdown",
   "id": "d81c8977",
   "metadata": {},
   "source": [
    "## 2 - Passo 02 - Feature Engineering"
   ]
  },
  {
   "cell_type": "markdown",
   "id": "fb493590",
   "metadata": {},
   "source": [
    "## 3 - Passo 03 - Filtragem dos Dados"
   ]
  },
  {
   "cell_type": "markdown",
   "id": "ab0fc971",
   "metadata": {},
   "source": [
    "## 4 - Passo 04 - EDA (Exploratory Data Analysis)"
   ]
  },
  {
   "cell_type": "code",
   "execution_count": null,
   "id": "3e28d9de",
   "metadata": {},
   "outputs": [],
   "source": []
  }
 ],
 "metadata": {
  "kernelspec": {
   "display_name": "Python 3 (ipykernel)",
   "language": "python",
   "name": "python3"
  },
  "language_info": {
   "codemirror_mode": {
    "name": "ipython",
    "version": 3
   },
   "file_extension": ".py",
   "mimetype": "text/x-python",
   "name": "python",
   "nbconvert_exporter": "python",
   "pygments_lexer": "ipython3",
   "version": "3.8.13"
  }
 },
 "nbformat": 4,
 "nbformat_minor": 5
}
