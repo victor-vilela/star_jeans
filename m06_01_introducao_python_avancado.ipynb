{
 "cells": [
  {
   "cell_type": "markdown",
   "id": "79b5e0d5",
   "metadata": {},
   "source": [
    "# Modulo 06 - Python Avançado"
   ]
  },
  {
   "cell_type": "code",
   "execution_count": 1,
   "id": "80f796d2",
   "metadata": {},
   "outputs": [
    {
     "data": {
      "text/plain": [
       "True"
      ]
     },
     "execution_count": 1,
     "metadata": {},
     "output_type": "execute_result"
    }
   ],
   "source": [
    "CPF = '123.456.789-00'\n",
    "regex = '^\\d{3}\\.\\d{3}\\.\\d{3}\\-\\d{2}$'\n",
    "\n",
    "\n",
    "# toda string começa com '^' e termina com '$';\n",
    "# \\d{n} equivale a um número de n dígitos\n",
    "# \\. equivale ao ponto explícito. (o '.' isolado equivale a qualquer caractere)\n",
    "# \\- equivale ao traço explícito\n",
    "\n",
    "import re # importa a classe que trabalha com expressões regulares\n",
    "bool( re.match( regex, CPF ) ) # verifica se CPF possui o padrão de regex"
   ]
  },
  {
   "cell_type": "code",
   "execution_count": null,
   "id": "cc124a3a",
   "metadata": {},
   "outputs": [],
   "source": []
  }
 ],
 "metadata": {
  "kernelspec": {
   "display_name": "Python 3 (ipykernel)",
   "language": "python",
   "name": "python3"
  },
  "language_info": {
   "codemirror_mode": {
    "name": "ipython",
    "version": 3
   },
   "file_extension": ".py",
   "mimetype": "text/x-python",
   "name": "python",
   "nbconvert_exporter": "python",
   "pygments_lexer": "ipython3",
   "version": "3.8.13"
  }
 },
 "nbformat": 4,
 "nbformat_minor": 5
}
