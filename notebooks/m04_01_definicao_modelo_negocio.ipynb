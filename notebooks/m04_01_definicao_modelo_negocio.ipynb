{
 "cells": [
  {
   "cell_type": "markdown",
   "id": "18baba56",
   "metadata": {},
   "source": [
    "# Modulo 04 - Modelo de Negócio e Métricas"
   ]
  },
  {
   "cell_type": "markdown",
   "id": "12d505a1",
   "metadata": {},
   "source": [
    "## 1 - O que é um modelo de negócio?"
   ]
  },
  {
   "cell_type": "markdown",
   "id": "2e2dc276",
   "metadata": {},
   "source": [
    "### 1.1 - A definição de modelo de negócio\n",
    "\n",
    "<i>“Como você planeja ganhar dinheiro”, Michael Lewis</i><br><br>\n",
    "<i>“Um modelo de negócio descreve a lógica de criação, entrega e captura de valor por\n",
    "parte de uma organização”, Alexander Osterwalder</i>"
   ]
  },
  {
   "cell_type": "markdown",
   "id": "0d5f1d02",
   "metadata": {},
   "source": [
    "### 1.2 - Os principais modelos de negócio"
   ]
  },
  {
   "cell_type": "markdown",
   "id": "fd0a7a12",
   "metadata": {},
   "source": [
    "#### E-commerce"
   ]
  },
  {
   "cell_type": "markdown",
   "id": "e3ad1ecc",
   "metadata": {},
   "source": [
    "1. <b>Faturamento:</b> Vendas de um produto.\n",
    "2. <b>Exemplo:</b> Lojas Riachuelo, Submarino, Magazine Luiza, etc"
   ]
  },
  {
   "cell_type": "markdown",
   "id": "6de614e3",
   "metadata": {},
   "source": [
    "#### Software AS a Service ( SaaS )"
   ]
  },
  {
   "cell_type": "markdown",
   "id": "d463542d",
   "metadata": {},
   "source": [
    "1. <b>Faturamento:</b> Assinatura mensal/anual de utilização ou por usuário.\n",
    "2. <b>Exemplo:</b> Looker, Asana, Gmail, Salesforce."
   ]
  },
  {
   "cell_type": "markdown",
   "id": "501135fd",
   "metadata": {},
   "source": [
    "#### Serviço"
   ]
  },
  {
   "cell_type": "markdown",
   "id": "6d49f2a5",
   "metadata": {},
   "source": [
    "1. <b>Faturamento:</b> Prestação de serviço por tempo ou projeto.\n",
    "2. <b>Exemplo:</b> Sul América, Porto Seguro, Mapfre."
   ]
  },
  {
   "cell_type": "markdown",
   "id": "26d8aaa6",
   "metadata": {},
   "source": [
    "#### Mobile App"
   ]
  },
  {
   "cell_type": "markdown",
   "id": "3729d7f6",
   "metadata": {},
   "source": [
    "1. <b>Faturamento:</b> Venda de upgrades.\n",
    "2. <b>Exemplo:</b> Wildlife, Ubisoft, Games Mobile."
   ]
  },
  {
   "cell_type": "markdown",
   "id": "27f15040",
   "metadata": {},
   "source": [
    "#### Media Site"
   ]
  },
  {
   "cell_type": "markdown",
   "id": "b658ce51",
   "metadata": {},
   "source": [
    "1. <b>Faturamento:</b> Cobrança por clicks ou visualizações de um determinado anúncio\n",
    "2. <b>Exemplo:</b> Facebook, Google, UOL, G1"
   ]
  },
  {
   "cell_type": "markdown",
   "id": "5577d8b9",
   "metadata": {},
   "source": [
    "#### Marketplace"
   ]
  },
  {
   "cell_type": "markdown",
   "id": "780321f8",
   "metadata": {},
   "source": [
    "1. <b>Faturamento:</b> Taxa sobre a transação entre quem oferta a facilitação de um serviço/produto sobre determinada demanda\n",
    "2. <b>Exemplo:</b> iFood, Uber, 99, Elo7, Submarino."
   ]
  },
  {
   "cell_type": "code",
   "execution_count": null,
   "id": "28ccc068",
   "metadata": {},
   "outputs": [],
   "source": []
  }
 ],
 "metadata": {
  "kernelspec": {
   "display_name": "Python 3 (ipykernel)",
   "language": "python",
   "name": "python3"
  },
  "language_info": {
   "codemirror_mode": {
    "name": "ipython",
    "version": 3
   },
   "file_extension": ".py",
   "mimetype": "text/x-python",
   "name": "python",
   "nbconvert_exporter": "python",
   "pygments_lexer": "ipython3",
   "version": "3.8.13"
  }
 },
 "nbformat": 4,
 "nbformat_minor": 5
}
