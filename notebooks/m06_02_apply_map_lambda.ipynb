{
 "cells": [
  {
   "cell_type": "markdown",
   "id": "7d57b52a",
   "metadata": {},
   "source": [
    "# Modulo 06 - Módulo Avançado"
   ]
  },
  {
   "cell_type": "markdown",
   "id": "e6fe5d5f",
   "metadata": {},
   "source": [
    "## Apply, Map, Lambda"
   ]
  },
  {
   "cell_type": "markdown",
   "id": "01e3f155",
   "metadata": {},
   "source": [
    "### APPLY"
   ]
  },
  {
   "cell_type": "markdown",
   "id": "4180e862",
   "metadata": {},
   "source": [
    "O que é: uma maneira semelhante ao MAP de aplicar uma função pré-definida a uma estrutura de dados. (apply é um método específico da biblioteca 'pandas' e pode ser chamado pelo .apply)"
   ]
  },
  {
   "cell_type": "code",
   "execution_count": 2,
   "id": "869d7db0",
   "metadata": {},
   "outputs": [],
   "source": [
    "import pandas as pd"
   ]
  },
  {
   "cell_type": "code",
   "execution_count": 21,
   "id": "ce03c10a",
   "metadata": {},
   "outputs": [
    {
     "data": {
      "text/html": [
       "<div>\n",
       "<style scoped>\n",
       "    .dataframe tbody tr th:only-of-type {\n",
       "        vertical-align: middle;\n",
       "    }\n",
       "\n",
       "    .dataframe tbody tr th {\n",
       "        vertical-align: top;\n",
       "    }\n",
       "\n",
       "    .dataframe thead th {\n",
       "        text-align: right;\n",
       "    }\n",
       "</style>\n",
       "<table border=\"1\" class=\"dataframe\">\n",
       "  <thead>\n",
       "    <tr style=\"text-align: right;\">\n",
       "      <th></th>\n",
       "      <th>nome</th>\n",
       "      <th>peso</th>\n",
       "      <th>altura</th>\n",
       "      <th>imc</th>\n",
       "    </tr>\n",
       "  </thead>\n",
       "  <tbody>\n",
       "    <tr>\n",
       "      <th>0</th>\n",
       "      <td>nome1</td>\n",
       "      <td>80</td>\n",
       "      <td>170</td>\n",
       "      <td>47.619048</td>\n",
       "    </tr>\n",
       "    <tr>\n",
       "      <th>1</th>\n",
       "      <td>nome2</td>\n",
       "      <td>70</td>\n",
       "      <td>165</td>\n",
       "      <td>41.916168</td>\n",
       "    </tr>\n",
       "    <tr>\n",
       "      <th>2</th>\n",
       "      <td>nome3</td>\n",
       "      <td>65</td>\n",
       "      <td>150</td>\n",
       "      <td>43.918919</td>\n",
       "    </tr>\n",
       "  </tbody>\n",
       "</table>\n",
       "</div>"
      ],
      "text/plain": [
       "    nome  peso  altura        imc\n",
       "0  nome1    80     170  47.619048\n",
       "1  nome2    70     165  41.916168\n",
       "2  nome3    65     150  43.918919"
      ]
     },
     "execution_count": 21,
     "metadata": {},
     "output_type": "execute_result"
    }
   ],
   "source": [
    "# dataframe\n",
    "df = pd.DataFrame([['nome1',80,170],['nome2',70,165],['nome3',65,150]],\n",
    "                  columns = ['nome','peso','altura'] )\n",
    "# função pré-definida\n",
    "f_imc = lambda x: x['peso'] / (x['altura'] ^ 2) * 100\n",
    "# apply\n",
    "df['imc'] = df[['peso','altura']].apply(f_imc, axis=1)\n",
    "# df['imc'] = df.apply(lambda x: round(x['peso'] / (x['altura'] ^ 2)*100, 2) , axis=1)\n",
    "df"
   ]
  },
  {
   "cell_type": "markdown",
   "id": "f5ebc294",
   "metadata": {},
   "source": [
    "### MAP"
   ]
  },
  {
   "cell_type": "markdown",
   "id": "dbae5c30",
   "metadata": {},
   "source": [
    "O que é: uma maneira de aplicar uma função pré-definida em uma dada estrutura de dados."
   ]
  },
  {
   "cell_type": "code",
   "execution_count": 19,
   "id": "d074ec1e",
   "metadata": {},
   "outputs": [
    {
     "data": {
      "text/plain": [
       "['a', 'b', 'c', 'd', 'e', 'f', 'g', 'h', 'i', 'j']"
      ]
     },
     "execution_count": 19,
     "metadata": {},
     "output_type": "execute_result"
    }
   ],
   "source": [
    "lista = ['A','B','C','D','E','F','G','H','I','J']\n",
    "# função pré-definida\n",
    "snakecase = lambda x: x.lower()\n",
    "# map\n",
    "list( map( snakecase, lista ) )"
   ]
  },
  {
   "cell_type": "markdown",
   "id": "3d506812",
   "metadata": {},
   "source": [
    "### LAMBDA"
   ]
  },
  {
   "cell_type": "markdown",
   "id": "98c39c70",
   "metadata": {},
   "source": [
    "O que é: uma maneira alternativa de definir uma função. O método tradicional é através do 'def'.<br>\n",
    "Método Tradicional: resume trechos repetitivos de comandos reutilizados em outras partes do código. Ideal para realizar cálculos e tarefas complexas."
   ]
  },
  {
   "cell_type": "code",
   "execution_count": 22,
   "id": "49aaa0e7",
   "metadata": {},
   "outputs": [],
   "source": [
    "def calculation (a,b):\n",
    "    c = a + b\n",
    "    return c"
   ]
  },
  {
   "cell_type": "code",
   "execution_count": 23,
   "id": "9691f0d4",
   "metadata": {},
   "outputs": [
    {
     "data": {
      "text/plain": [
       "30"
      ]
     },
     "execution_count": 23,
     "metadata": {},
     "output_type": "execute_result"
    }
   ],
   "source": [
    "calculation(10,20)"
   ]
  },
  {
   "cell_type": "markdown",
   "id": "43f2da40",
   "metadata": {},
   "source": [
    "Método Alternativo: sintetiza cálculos locais simples de maneira concisa e direta"
   ]
  },
  {
   "cell_type": "code",
   "execution_count": 25,
   "id": "35d6b33b",
   "metadata": {},
   "outputs": [
    {
     "data": {
      "text/plain": [
       "30"
      ]
     },
     "execution_count": 25,
     "metadata": {},
     "output_type": "execute_result"
    }
   ],
   "source": [
    "f_calculation = lambda a, b: a+b\n",
    "f_calculation(10,20)"
   ]
  },
  {
   "cell_type": "code",
   "execution_count": null,
   "id": "06487a69",
   "metadata": {},
   "outputs": [],
   "source": []
  }
 ],
 "metadata": {
  "kernelspec": {
   "display_name": "Python 3 (ipykernel)",
   "language": "python",
   "name": "python3"
  },
  "language_info": {
   "codemirror_mode": {
    "name": "ipython",
    "version": 3
   },
   "file_extension": ".py",
   "mimetype": "text/x-python",
   "name": "python",
   "nbconvert_exporter": "python",
   "pygments_lexer": "ipython3",
   "version": "3.8.13"
  }
 },
 "nbformat": 4,
 "nbformat_minor": 5
}
