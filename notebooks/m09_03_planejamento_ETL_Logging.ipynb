{
 "cells": [
  {
   "cell_type": "markdown",
   "id": "ffbdfe71",
   "metadata": {},
   "source": [
    "# Planejamento do ETL - Logging"
   ]
  },
  {
   "cell_type": "markdown",
   "id": "0843150f",
   "metadata": {},
   "source": [
    "## 1 - Requisitos Mínimos do ETL"
   ]
  },
  {
   "cell_type": "markdown",
   "id": "c48a3859",
   "metadata": {},
   "source": [
    "1. Desenho da arquitetura do ETL\n",
    "2. Orquestração dos Jobs\n",
    "3. Arquivos de Log\n",
    "4. Documentação ( Tabela de Agendamentos )"
   ]
  },
  {
   "cell_type": "markdown",
   "id": "53817c4a",
   "metadata": {},
   "source": [
    "## 2 - Desenho da arquitetura do ETL"
   ]
  },
  {
   "cell_type": "markdown",
   "id": "a83c9dde",
   "metadata": {},
   "source": [
    "1. Fonte de Dados, arquivos intermediários e saída final.\n",
    "2. Jobs ( origem e destino )\n",
    "3. Dependências entre os Jobs."
   ]
  },
  {
   "cell_type": "markdown",
   "id": "47f0557e",
   "metadata": {},
   "source": [
    "## 3 - Arquivos de Log"
   ]
  },
  {
   "cell_type": "markdown",
   "id": "02c606cd",
   "metadata": {},
   "source": [
    "1. Ferramenta para gerar e armazenar os Logs.\n",
    "2. Leitura e escrita dos Jobs."
   ]
  },
  {
   "cell_type": "markdown",
   "id": "5819d7b1",
   "metadata": {},
   "source": [
    "### 3.1 - O que é Logging?"
   ]
  },
  {
   "cell_type": "markdown",
   "id": "62b561e9",
   "metadata": {},
   "source": [
    "Logging é uma maneira de rastrear eventos que acontecem quando algum software executa.<br>\n",
    "O Evento é descrito por uma mensagem descritiva que pode opcionalmente conter o dado de uma\n",
    "variável.<br>\n",
    "Eventos também tem um peso que o desenvolvedor atribui para o evento. O peso pode também\n",
    "ser chamada de níveis ou severidade.<br>"
   ]
  },
  {
   "cell_type": "markdown",
   "id": "e5a284e1",
   "metadata": {},
   "source": [
    "### 3.2 - Os níveis de severidade."
   ]
  },
  {
   "cell_type": "markdown",
   "id": "e358fe71",
   "metadata": {},
   "source": [
    "<b>DEBUG:</b> Informação detalhada, tipicamente de interesse apenas quando diagnosticando problemas.<br><br>\n",
    "<b>INFO:</b> Confirmação de que as coisas estão funcionando como esperado.<br><br>\n",
    "<b>WARNING:</b> Uma indicação que algo esperado aconteceu, ou um indicativo que algum problema\n",
    "em futuro próximo.<br><br>\n",
    "<b>ERROR:</b> Por conta de um problama mais grave, o software não conseguiu executar alguma\n",
    "função.<br><br>\n",
    "<b>CRITICAL:</b> Um erro grave, indicando que o programa pode não conseguir continuar rodando"
   ]
  },
  {
   "cell_type": "markdown",
   "id": "1915f062",
   "metadata": {},
   "source": [
    "### 3.3 - Exemplos"
   ]
  },
  {
   "cell_type": "code",
   "execution_count": 1,
   "id": "340d3f1a",
   "metadata": {},
   "outputs": [],
   "source": [
    "import os\n",
    "import logging"
   ]
  },
  {
   "cell_type": "code",
   "execution_count": null,
   "id": "eaa58d33",
   "metadata": {},
   "outputs": [],
   "source": [
    "if not os.path.exists( 'Logs' ):\n",
    "    os.makedirs( 'Logs' )\n",
    "        \n",
    "logging.basicConfig(\n",
    "    filename='Logs/webscraping_hm.txt',\n",
    "    format='%(asctime)s - %(levelname)s - %(name)s - %(message)s',\n",
    "    datefmt='%Y-%m-%d %H:%M:%S',\n",
    "    level=logging.DEBUG )\n",
    "\n",
    "logger = logging.getLogger( 'webscraping_hm' )"
   ]
  },
  {
   "cell_type": "code",
   "execution_count": null,
   "id": "ebe9b5d5",
   "metadata": {},
   "outputs": [],
   "source": [
    "logger.debug( 'O valor da variavel x eh de %s', 10 )\n",
    "logger.info( 'Essa eh a interacao de numero' )\n",
    "logger.warning( 'Esse ponto do codigo deve ser melhorado' )"
   ]
  },
  {
   "cell_type": "markdown",
   "id": "c68bc89d",
   "metadata": {},
   "source": [
    "## 4 - Orquestração dos Jobs"
   ]
  },
  {
   "cell_type": "markdown",
   "id": "9028e10e",
   "metadata": {},
   "source": [
    "1. Ferramenta para “rodar” o job automaticamente.\n",
    "2. Dependências entre os Jobs.\n",
    "3. Rodar novamente em caso de falha."
   ]
  },
  {
   "cell_type": "markdown",
   "id": "72a43392",
   "metadata": {},
   "source": [
    "## 5 - Documentação"
   ]
  },
  {
   "cell_type": "markdown",
   "id": "73cee2b0",
   "metadata": {},
   "source": [
    "1. Tabela de agendamento dos Jobs e suas dependência."
   ]
  },
  {
   "cell_type": "markdown",
   "id": "a7495f61",
   "metadata": {},
   "source": [
    "## 6 - O Cron"
   ]
  },
  {
   "cell_type": "markdown",
   "id": "b3e70255",
   "metadata": {},
   "source": [
    "O Cron é um agendador de tarefas, baseado em tempo, usado em sistemas operacionais de base\n",
    "Unix."
   ]
  },
  {
   "cell_type": "markdown",
   "id": "9c1f8987",
   "metadata": {},
   "source": [
    "### 6.1 - O funcionamento do Cron"
   ]
  },
  {
   "cell_type": "markdown",
   "id": "59e1fb82",
   "metadata": {},
   "source": [
    "minute hour day_of_month month day_of_week COMMAND"
   ]
  },
  {
   "cell_type": "code",
   "execution_count": 4,
   "id": "5e9e73f7",
   "metadata": {},
   "outputs": [],
   "source": [
    "# 0 8 * * * python webscraping_hm.py\n",
    "# 30 10 * * * python webscraping_hm.py\n",
    "# 30 10,22 * * * python webscraping_hm.py\n",
    "# 0 8-12 * * * python webscraping_hm.py\n",
    "# * * * * * mkdir /Users/meigarom.lopes/repos/python-ds-ao-dev/modulo09_design_ETL/apagar"
   ]
  },
  {
   "cell_type": "markdown",
   "id": "1c633874",
   "metadata": {},
   "source": [
    "### 6.2 - Os arquivos de Log"
   ]
  },
  {
   "cell_type": "markdown",
   "id": "9ef7eda6",
   "metadata": {},
   "source": [
    "/var/mail/<username'><br>\n",
    "/var/mail/meigarom.lopes"
   ]
  },
  {
   "cell_type": "markdown",
   "id": "6cb382b0",
   "metadata": {},
   "source": [
    "### 6.3 - Desvantagem do Cron"
   ]
  },
  {
   "cell_type": "markdown",
   "id": "8e95636c",
   "metadata": {},
   "source": [
    "1. Não há sincronia das tarefas.\n",
    "2. O computador precisa estar ligado"
   ]
  },
  {
   "cell_type": "markdown",
   "id": "a55d138c",
   "metadata": {},
   "source": [
    "## 7 - Documentação"
   ]
  },
  {
   "cell_type": "code",
   "execution_count": 3,
   "id": "fb35c21c",
   "metadata": {},
   "outputs": [],
   "source": [
    "#* * * * * python /Users/meigarom.lopes/repos/python-ds-ao-dev/modulo09_design_ETL/example_crontab.py"
   ]
  },
  {
   "cell_type": "markdown",
   "id": "62bdf1b8",
   "metadata": {},
   "source": [
    "1. Tabela de agendamento dos Jobs e suas dependência."
   ]
  },
  {
   "cell_type": "code",
   "execution_count": null,
   "id": "9cf96601",
   "metadata": {},
   "outputs": [],
   "source": []
  }
 ],
 "metadata": {
  "kernelspec": {
   "display_name": "Python 3 (ipykernel)",
   "language": "python",
   "name": "python3"
  },
  "language_info": {
   "codemirror_mode": {
    "name": "ipython",
    "version": 3
   },
   "file_extension": ".py",
   "mimetype": "text/x-python",
   "name": "python",
   "nbconvert_exporter": "python",
   "pygments_lexer": "ipython3",
   "version": "3.8.13"
  }
 },
 "nbformat": 4,
 "nbformat_minor": 5
}
