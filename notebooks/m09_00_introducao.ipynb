{
 "cells": [
  {
   "cell_type": "markdown",
   "id": "5d414cc0",
   "metadata": {},
   "source": [
    "# Modulo 09 - Design de ETL"
   ]
  },
  {
   "cell_type": "markdown",
   "id": "119cb528",
   "metadata": {},
   "source": [
    "## O que já fizemos?"
   ]
  },
  {
   "cell_type": "markdown",
   "id": "3d09d0bf",
   "metadata": {},
   "source": [
    "- Questão de Negócio:\n",
    "    - Qual o melhor preço para entrar no mercado americando de Fashion?\n",
    "- Entendimento do Negócio:\n",
    "    - Webscraping dos 2 principais concorrentes.\n",
    "    - Calcular o preço médio por categoria.\n",
    "- Coleta de Dados:\n",
    "    - Webscraping do site da H&M.\n",
    "    - Limpeza e organização dos dados.\n",
    "    - Inserção dos dados no banco de dados.\n",
    "    - Consulta dos dados com SQL.\n"
   ]
  },
  {
   "cell_type": "markdown",
   "id": "84c1d5e8",
   "metadata": {},
   "source": [
    "## Falta mais alguma coisa ?"
   ]
  },
  {
   "cell_type": "markdown",
   "id": "30fa1436",
   "metadata": {},
   "source": [
    "- O script é 100% manual. Eu preciso apertar o botão do “RUN” todos os dias. E se eu\n",
    "esquecer?\n",
    "- Não há a possibilidade de contribuição de outros Cientistas de Dados.\n",
    "- Script Macarrônico. Sem divisão clara de responsabilidade.\n",
    "- Como monitorar se o script funcionou ou não?\n"
   ]
  },
  {
   "cell_type": "markdown",
   "id": "bf1be40f",
   "metadata": {},
   "source": [
    "## Double check do Script do ETL"
   ]
  },
  {
   "cell_type": "markdown",
   "id": "ebfeaa8a",
   "metadata": {},
   "source": [
    "- Unificar os códigos.\n",
    "- Garantir qualidade."
   ]
  },
  {
   "cell_type": "code",
   "execution_count": null,
   "id": "11589636",
   "metadata": {},
   "outputs": [],
   "source": []
  }
 ],
 "metadata": {
  "kernelspec": {
   "display_name": "Python 3 (ipykernel)",
   "language": "python",
   "name": "python3"
  },
  "language_info": {
   "codemirror_mode": {
    "name": "ipython",
    "version": 3
   },
   "file_extension": ".py",
   "mimetype": "text/x-python",
   "name": "python",
   "nbconvert_exporter": "python",
   "pygments_lexer": "ipython3",
   "version": "3.8.13"
  }
 },
 "nbformat": 4,
 "nbformat_minor": 5
}
