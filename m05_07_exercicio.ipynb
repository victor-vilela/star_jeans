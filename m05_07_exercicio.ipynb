{
 "cells": [
  {
   "cell_type": "markdown",
   "id": "75cbcb72",
   "metadata": {},
   "source": [
    "## 4- O método SAPE na prática"
   ]
  },
  {
   "cell_type": "markdown",
   "id": "1d81297b",
   "metadata": {},
   "source": [
    "### 4.1- Problema de Negócio"
   ]
  },
  {
   "cell_type": "markdown",
   "id": "eadf40e1",
   "metadata": {},
   "source": [
    "<b>Coletar os seguintes dados da página: https://books.toscrape.com</b>\n",
    "\n",
    "* Catálogo:\n",
    "    * Classics\n",
    "    * Science Fiction\n",
    "    * Humor\n",
    "    * Business\n",
    "    <br><br>\n",
    "* Coletar os seguintes dados de cada livro:\n",
    "    * Nome do livro\n",
    "    * Preço em libras\n",
    "    * Avaliação dos consumidores\n",
    "    * Disponível em estoque\n",
    "    \n",
    "<b>Entregável:</b>\n",
    "\n",
    "* Faça um plano escrito para cada uma das perguntas de negócio, contendo:\n",
    "    * Saída: A simulação da tabela e gráfico final.\n",
    "    * Processo: A sequência de passos organizada pela lógica de execução\n",
    "    * Entrada: O link para as fontes de dados.\n",
    "        <br><br>\n",
    "* Uma csv com todas as informação de todos os catálogos."
   ]
  },
  {
   "cell_type": "markdown",
   "id": "bb178800",
   "metadata": {},
   "source": [
    "### 4.2- Saída: ( Produto final )"
   ]
  },
  {
   "cell_type": "markdown",
   "id": "54fcc4a2",
   "metadata": {},
   "source": [
    "1. A resposta para a pergunta.\n",
    "    - Coletar os dados da página book to scrape\n",
    "2. Formato da entrega\n",
    "    - Tabela\n",
    "3. Local da entrega\n",
    "    - Arquivo formato csv"
   ]
  },
  {
   "cell_type": "markdown",
   "id": "0bfb5ec1",
   "metadata": {},
   "source": [
    "### 4.3-  Processo ( Passo a Passo )"
   ]
  },
  {
   "cell_type": "markdown",
   "id": "8dea7603",
   "metadata": {},
   "source": [
    "1. Passo a passso para construir o cálculo da mediana ou média\n",
    "    - Gerar uma tabela com os dados de Nome do Livro, Preço, Avaliação, Disponibilidade (4 categorias)\n",
    "2. Definir o formato da entrega ( Tabela )\n",
    "    - Atraves de cada categoria exigida, coletar cada produto da vitrine\n",
    "    - Realizar a paginacao para coletar as demais paginas\n",
    "    - Tabela com as seguintes colunas: book_id | book_name | book_category | book_avaliable | book_price | book_stock | date_scrapy | Definição do schema: Colunas e seu tipo\n",
    "    - Entrega do produto final\n",
    "3. Decidir o local de entrega ( PowerBi, Telegram, Email, Streamlit, Intranet )\n",
    "    - Arquivo formato csv"
   ]
  },
  {
   "cell_type": "markdown",
   "id": "3d84b2cd",
   "metadata": {},
   "source": [
    "### 4.4- Entrada ( Fonte de dados )"
   ]
  },
  {
   "cell_type": "markdown",
   "id": "d2571f79",
   "metadata": {},
   "source": [
    "1. Fonte de dados\n",
    "    - Site da Books to Scrape: https://books.toscrape.com\n",
    "2. Ferramentas\n",
    "    - Python 3.8.0\n",
    "    - Bibliotecas de Webscrapping ( BS4 )\n",
    "    - Jupyter Notebook ( Analise e prototipagens )"
   ]
  },
  {
   "cell_type": "code",
   "execution_count": 81,
   "id": "368be5b5",
   "metadata": {},
   "outputs": [],
   "source": [
    "from bs4 import BeautifulSoup\n",
    "import requests\n",
    "from datetime import datetime\n",
    "import pandas as pd\n",
    "\n",
    "url = 'https://books.toscrape.com/'\n",
    "headers = {'User-Agent': 'Mozilla/5.0 (Macintosh; Intel Mac OS X 10_11_5)AppleWebKit/537.36 (KHTML, like Gecko) Chrome/50.0.2661.102 Safari/537.36'}\n",
    "\n",
    "# request na page home\n",
    "page_home = requests.get( url, headers=headers)\n",
    "\n",
    "# Object BeautifulSoup\n",
    "soup_home = BeautifulSoup(page_home.text, 'html.parser')\n",
    "\n",
    "# collect categories\n",
    "list_category = [i.get('href') for i in soup_home.find_all('a') if ('books/classics' in i.get('href')) or ('books/science-fiction' in i.get('href')) or ('books/humor' in i.get('href')) or ('books/business' in i.get('href'))]\n",
    "\n",
    "#\n",
    "df_raw = pd.DataFrame()\n",
    "\n",
    "for i in list_category:\n",
    "    # request nas categorias\n",
    "    url_category = url + i\n",
    "    page = requests.get( url_category, headers=headers)\n",
    "    soup = BeautifulSoup(page.text, 'html.parser')\n",
    "    \n",
    "    book_name = [i.find('img').attrs.get('alt') for i in soup.find_all('div', class_='image_container')]\n",
    "\n",
    "    book_price = [i.find('p', class_='price_color').get_text()[2:] for i in soup.find_all('article', class_='product_pod')]\n",
    "\n",
    "    book_avaliable = [i.find('p').attrs.get('class')[1] for i in soup.find_all('article', class_='product_pod')]\n",
    "\n",
    "    book_stock = [\" \".join(list(filter(None, i.find('p', class_='instock availability').get_text().split()))) for i in soup.find_all('article', class_='product_pod')]\n",
    "\n",
    "    book_category = soup.find('div', class_='page-header action').get_text().split()\n",
    "\n",
    "    # create DataFrame and collect data_scrapy\n",
    "    df_books = pd.DataFrame([book_name, book_price, book_category, book_avaliable, book_stock]).T\n",
    "    df_books.columns = ['book_name', 'book_price', 'book_category', 'book_avaliable', 'book_stock']\n",
    "    df_books['book_data_scrapy'] = datetime.now().strftime(' %Y-%m-%d %H:%M:%S ')\n",
    "    df_books = df_books.fillna(method='ffill')\n",
    "    \n",
    "    # all details products\n",
    "    df_raw = pd.concat([df_raw,df_books], axis=0)\n",
    "\n",
    "df_raw.reset_index(drop=True, inplace=True)\n",
    "df_raw.insert(0, 'book_id', df_raw.index)\n",
    "df_raw.to_csv('data_books.csv', index=False)"
   ]
  },
  {
   "cell_type": "code",
   "execution_count": null,
   "id": "8a84cd4f",
   "metadata": {},
   "outputs": [],
   "source": []
  }
 ],
 "metadata": {
  "kernelspec": {
   "display_name": "Python 3 (ipykernel)",
   "language": "python",
   "name": "python3"
  },
  "language_info": {
   "codemirror_mode": {
    "name": "ipython",
    "version": 3
   },
   "file_extension": ".py",
   "mimetype": "text/x-python",
   "name": "python",
   "nbconvert_exporter": "python",
   "pygments_lexer": "ipython3",
   "version": "3.8.13"
  }
 },
 "nbformat": 4,
 "nbformat_minor": 5
}
