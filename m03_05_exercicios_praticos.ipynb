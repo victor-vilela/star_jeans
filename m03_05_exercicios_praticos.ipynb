{
 "cells": [
  {
   "cell_type": "markdown",
   "id": "602ffa2c",
   "metadata": {},
   "source": [
    "# Modulo 03 - Exercícios práticos"
   ]
  },
  {
   "cell_type": "markdown",
   "id": "2910fb0a",
   "metadata": {},
   "source": [
    "## 5.1 - CRISP"
   ]
  },
  {
   "cell_type": "markdown",
   "id": "e6e4a594",
   "metadata": {},
   "source": [
    "### 5.1.1 - Leitura do Livro “Data Science Para Negócio”"
   ]
  },
  {
   "cell_type": "markdown",
   "id": "ecb0702d",
   "metadata": {},
   "source": [
    "- Capítulo 02 - Problemas de Negócio e Solução de Data Science\n",
    "- Leitura do PDF em anexo da revista \"Journal of DataWarehousing\""
   ]
  },
  {
   "cell_type": "markdown",
   "id": "1efda39b",
   "metadata": {},
   "source": [
    "### 5.1.2 - Entregável:"
   ]
  },
  {
   "cell_type": "markdown",
   "id": "6144121e",
   "metadata": {},
   "source": [
    "- Escreve resumos do capítulo 02 sobre o método CRISP\n",
    "- Anote suas dúvidas, questões, curiosidades para a Live de dúvidas"
   ]
  },
  {
   "cell_type": "markdown",
   "id": "75c79e40",
   "metadata": {},
   "source": [
    "## 5.2 - Método SAPE"
   ]
  },
  {
   "cell_type": "markdown",
   "id": "9f53aca0",
   "metadata": {},
   "source": [
    "### 5.2.1 - Usar o método SAPE para quebrar as seguintes perguntas de negócio:"
   ]
  },
  {
   "cell_type": "markdown",
   "id": "f3384370",
   "metadata": {},
   "source": [
    "- Quantos tipos de calças e suas cores para o produto inicial?\n",
    "- Quais as matérias-prima necessárias para confeccionar as calças?"
   ]
  },
  {
   "cell_type": "markdown",
   "id": "26569e4c",
   "metadata": {},
   "source": [
    "### 5.2.2 - Entregável:"
   ]
  },
  {
   "cell_type": "markdown",
   "id": "3e7e03fb",
   "metadata": {},
   "source": [
    "- Faça um plano escrito para cada uma das perguntas de negócio, contendo:\n",
    "    - Saída: A simulação da tabela e gráfico final.\n",
    "    - Processo: A sequência de passos organizada pela lógica de execução\n",
    "    - Entrada: O link para as fontes de dados."
   ]
  },
  {
   "cell_type": "markdown",
   "id": "9221c977",
   "metadata": {},
   "source": [
    "## 5.3 - Modelo de Negócio"
   ]
  },
  {
   "cell_type": "markdown",
   "id": "915e0b66",
   "metadata": {},
   "source": [
    "### 5.3.1 - Leitura dos PDF’s em anexo:"
   ]
  },
  {
   "cell_type": "markdown",
   "id": "188d696f",
   "metadata": {},
   "source": [
    "- Capítulo 04, 05, 06, 07, 08 do livro: Lean Analytics\n",
    "- Ler o pdf em anexo sobre a definição do pensamento analítico pela universidade de Boston"
   ]
  },
  {
   "cell_type": "markdown",
   "id": "b83e55b7",
   "metadata": {},
   "source": [
    "### 5.3.2 -  Entregável:"
   ]
  },
  {
   "cell_type": "markdown",
   "id": "9a2f63fc",
   "metadata": {},
   "source": [
    "- Escreve resumos de cada capítulo com os principais aprendizados.\n",
    "- Anote suas dúvidas, questões, curiosidades para a Live de dúvidas."
   ]
  },
  {
   "cell_type": "markdown",
   "id": "b9510d86",
   "metadata": {},
   "source": [
    "# Respostas"
   ]
  },
  {
   "cell_type": "markdown",
   "id": "75cbcb72",
   "metadata": {},
   "source": [
    "## 5.2 - O método SAPE na prática (1ª Questão)"
   ]
  },
  {
   "cell_type": "markdown",
   "id": "1d81297b",
   "metadata": {},
   "source": [
    "### 5.2.1- Problema de Negócio"
   ]
  },
  {
   "cell_type": "markdown",
   "id": "e2ed7922",
   "metadata": {},
   "source": [
    "- Quantos tipos de calças e suas cores para o produto inicial?"
   ]
  },
  {
   "cell_type": "markdown",
   "id": "bb178800",
   "metadata": {},
   "source": [
    "### 5.2- Saída: ( Produto final )"
   ]
  },
  {
   "cell_type": "markdown",
   "id": "54fcc4a2",
   "metadata": {},
   "source": [
    "1. A resposta para a pergunta.\n",
    "    - Quantidade de cores e tipos de calças definidas\n",
    "2. Formato da entrega\n",
    "    - Tabela ou gráfico\n",
    "3. Local da entrega\n",
    "    - App Streamlit"
   ]
  },
  {
   "cell_type": "markdown",
   "id": "0bfb5ec1",
   "metadata": {},
   "source": [
    "### 5.3-  Processo ( Passo a Passo )"
   ]
  },
  {
   "cell_type": "markdown",
   "id": "8dea7603",
   "metadata": {},
   "source": [
    "1. Passo a passso para definir quantos tipos de calças e suas cores\n",
    "    - Realizar o calculo da mediana os tipos de calças e cores tem mais saída para iniciar o projeto\n",
    "2. Definir o formato da entrega ( Visualização, Tabela, Frase )\n",
    "    - Extrair quais calças são mais ofertados nas concorrentes.\n",
    "    - Gráfico de barras com a mediana dos preço dos produtos, por tipo e cor dos últimos 30 dia- Tabela com as seguintes colunas: id | product_name | product_type | product_color | produ- Definição do schema: Colunas e seu tipo\n",
    "    - Definição a infraestrutura de armazenamento ( SQLITE3 )\n",
    "    - Design do ETL ( Scripts de Extração, Transformação e Carga )\n",
    "    - Planejamento de Agendamento dos scripts ( dependencias entre os scripts )\n",
    "    - Fazer as visualizações\n",
    "    - Entrega do produto final\n",
    "3. Decidir o local de entrega ( PowerBi, Telegram, Email, Streamlit, Intranet )\n",
    "    - App com Streamlit"
   ]
  },
  {
   "cell_type": "markdown",
   "id": "3d84b2cd",
   "metadata": {},
   "source": [
    "### 5.4- Entrada ( Fonte de dados )"
   ]
  },
  {
   "cell_type": "markdown",
   "id": "d2571f79",
   "metadata": {},
   "source": [
    "1. Fonte de dados\n",
    "    - Site da H&M: https://www2.hm.com/en_us/men/products/jeans.html\n",
    "    - Site da Macys: https://www.macys.com/shop/mens-clothing/mens-jeans\n",
    "2. Ferramentas\n",
    "    - Python 3.8.0\n",
    "    - Bibliotecas de Webscrapping ( BS4, Selenium )\n",
    "    - PyCharm\n",
    "    - Jupyter Notebook ( Analise e prototipagens )\n",
    "    - Crontjob, Airflow\n",
    "    - Streamlit"
   ]
  },
  {
   "cell_type": "markdown",
   "id": "cb34b55e",
   "metadata": {},
   "source": [
    "## 5.2 - O método SAPE na prática (2ª Questão)"
   ]
  },
  {
   "cell_type": "markdown",
   "id": "97c7c181",
   "metadata": {},
   "source": [
    "### 5.2.1- Problema de Negócio"
   ]
  },
  {
   "cell_type": "markdown",
   "id": "1b62bc27",
   "metadata": {},
   "source": [
    "- Quais as matérias-prima necessárias para confeccionar as calças?"
   ]
  },
  {
   "cell_type": "markdown",
   "id": "524097b7",
   "metadata": {},
   "source": [
    "### 5.2- Saída: ( Produto final )"
   ]
  },
  {
   "cell_type": "markdown",
   "id": "5bdd4757",
   "metadata": {},
   "source": [
    "1. A resposta para a pergunta.\n",
    "    - Extrair as composições feitas para confecção de cada modelo de calça e que mais são em comum\n",
    "2. Formato da entrega\n",
    "    - Tabela ou Gráfico\n",
    "3. Local da entrega\n",
    "    - Resposta por e-mail"
   ]
  },
  {
   "cell_type": "markdown",
   "id": "8b43538f",
   "metadata": {},
   "source": [
    "### 5.3-  Processo ( Passo a Passo )"
   ]
  },
  {
   "cell_type": "markdown",
   "id": "e70e9ecb",
   "metadata": {},
   "source": [
    "1. Passo a passso para definir quantos tipos de calças e suas cores\n",
    "    - Realizar o calculo da mediana os tipos de calças e cores tem mais saída para iniciar o projeto\n",
    "2. Definir o formato da entrega ( Visualização, Tabela, Frase )\n",
    "    - Extrair quais calças são mais ofertados nas concorrentes.\n",
    "    - Gráfico de barras com a mediana dos preço dos produtos, por tipo e cor dos últimos 30 dia- Tabela com as seguintes colunas: id | product_name | product_type | product_color | produ- Definição do schema: Colunas e seu tipo\n",
    "    - Definição a infraestrutura de armazenamento ( SQLITE3 )\n",
    "    - Design do ETL ( Scripts de Extração, Transformação e Carga )\n",
    "    - Planejamento de Agendamento dos scripts ( dependencias entre os scripts )\n",
    "    - Fazer as visualizações\n",
    "    - Entrega do produto final\n",
    "3. Decidir o local de entrega ( PowerBi, Telegram, Email, Streamlit, Intranet )\n",
    "    - Através das tabelas, enviaremos um e-mail com as respostas do problema de negócio"
   ]
  },
  {
   "cell_type": "markdown",
   "id": "d1043482",
   "metadata": {},
   "source": [
    "### 5.4- Entrada ( Fonte de dados )"
   ]
  },
  {
   "cell_type": "markdown",
   "id": "16e0be26",
   "metadata": {},
   "source": [
    "1. Fonte de dados\n",
    "    - Site da H&M: https://www2.hm.com/en_us/men/products/jeans.html\n",
    "    - Site da Macys: https://www.macys.com/shop/mens-clothing/mens-jeans\n",
    "2. Ferramentas\n",
    "    - Python 3.8.0\n",
    "    - Bibliotecas de Webscrapping ( BS4, Selenium )\n",
    "    - PyCharm\n",
    "    - Jupyter Notebook ( Analise e prototipagens )\n",
    "    - Crontjob, Airflow\n",
    "    - Streamlit"
   ]
  },
  {
   "cell_type": "code",
   "execution_count": null,
   "id": "788ea31d",
   "metadata": {},
   "outputs": [],
   "source": []
  }
 ],
 "metadata": {
  "kernelspec": {
   "display_name": "Python 3 (ipykernel)",
   "language": "python",
   "name": "python3"
  },
  "language_info": {
   "codemirror_mode": {
    "name": "ipython",
    "version": 3
   },
   "file_extension": ".py",
   "mimetype": "text/x-python",
   "name": "python",
   "nbconvert_exporter": "python",
   "pygments_lexer": "ipython3",
   "version": "3.8.13"
  }
 },
 "nbformat": 4,
 "nbformat_minor": 5
}
