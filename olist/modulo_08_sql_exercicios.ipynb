{
 "cells": [
  {
   "cell_type": "markdown",
   "id": "9e06cbdd",
   "metadata": {},
   "source": [
    "Perguntas do exercício:\n",
    "\n",
    "\n",
    "01. Quantos pedidos foram feitos para cada tipo de pagamento?\n",
    "02. Qual o número máximo e mínimo de parcelas nos pagamentos?\n",
    "03. Quais são os top 10 pedidos com os maiores valores?\n",
    "04. Quais são os últimos 10 pedidos com os menores valores?\n",
    "05. Qual a média do valor de pagamento por tipo de pagamento?\n",
    "06. Quais os top 5 clientes com os maiores valores de pagamento no boleto?\n",
    "07. Quais os top 5 clientes com os maiores valores de pagamento no cartão de crédito?\n",
    "08. Quais os 10 produtos mais caros?\n",
    "09. Quais os 10 produtos mais baratos?\n",
    "10. Quais as 10 categorias mais compradas?\n",
    "11. Quais os 5 produtos com maior número de reviews?\n",
    "12. Quais os top 10 produtos sem nenhum review?\n",
    "13. Quais os 10 clientes com maior quantidade de pedidos?\n",
    "14. Quais os 10 clientes com a menor quantidade de pedidos?\n",
    "15. Quais vendedores existem na base?\n",
    "16. Qual a distribuição de vendedores por estado?\n",
    "17. Qual a distribuição de clientes por estado?\n",
    "18. Quais são os top 10 vendedores que mais receberam pagamentos por boleto?\n",
    "19. Quais são os 10 piores vendedores em termos de número de vendas?\n",
    "20. Quantos produtos são comprados, em média, por pedido?"
   ]
  }
 ],
 "metadata": {
  "kernelspec": {
   "display_name": "Python 3 (ipykernel)",
   "language": "python",
   "name": "python3"
  },
  "language_info": {
   "codemirror_mode": {
    "name": "ipython",
    "version": 3
   },
   "file_extension": ".py",
   "mimetype": "text/x-python",
   "name": "python",
   "nbconvert_exporter": "python",
   "pygments_lexer": "ipython3",
   "version": "3.8.13"
  }
 },
 "nbformat": 4,
 "nbformat_minor": 5
}
