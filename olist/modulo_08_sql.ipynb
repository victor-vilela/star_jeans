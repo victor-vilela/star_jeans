{
 "cells": [
  {
   "cell_type": "markdown",
   "id": "b3bd1e75",
   "metadata": {},
   "source": [
    "# 1 - Connect to Database"
   ]
  },
  {
   "cell_type": "code",
   "execution_count": 15,
   "id": "ea5d3307",
   "metadata": {},
   "outputs": [],
   "source": [
    "import sqlite3\n",
    "from sqlalchemy import create_engine\n",
    "import pandas as pd"
   ]
  },
  {
   "cell_type": "code",
   "execution_count": 16,
   "id": "1b2cfa45",
   "metadata": {},
   "outputs": [],
   "source": [
    "db = create_engine( 'sqlite:///db_olist.sqlite', echo=False )\n",
    "conn = db.connect()"
   ]
  },
  {
   "cell_type": "markdown",
   "id": "3fb97e3c",
   "metadata": {},
   "source": [
    "# 2 - Loading dataset"
   ]
  },
  {
   "cell_type": "code",
   "execution_count": 5,
   "id": "12be4368",
   "metadata": {},
   "outputs": [],
   "source": [
    "# dataset\n",
    "df_costumer = pd.read_csv('database/olist_customers_dataset.csv')"
   ]
  },
  {
   "cell_type": "code",
   "execution_count": 7,
   "id": "e0d9c9e4",
   "metadata": {},
   "outputs": [],
   "source": [
    "# schema_costumer = \"\"\"\n",
    "#     CREATE TABLE costumer(\n",
    "#         customer_id                 TEXT,\n",
    "#         customer_unique_id          TEXT,\n",
    "#         customer_zip_code_prefix    INTEGER,\n",
    "#         customer_city               TEXT,\n",
    "#         customer_state              TEXT\n",
    "#     )\n",
    "# \"\"\"\n",
    "\n",
    "# # create schema\n",
    "# conn.execute(schema_costumer)"
   ]
  },
  {
   "cell_type": "code",
   "execution_count": null,
   "id": "b04da971",
   "metadata": {},
   "outputs": [],
   "source": [
    "query = \"\"\"\n",
    "    SELECT name\n",
    "    FROM sqlite_master\n",
    "    WHERE type = 'table'\n",
    "\"\"\"\n",
    "\n",
    "table = pd.read_sql_query(query, conn)\n",
    "table"
   ]
  },
  {
   "cell_type": "code",
   "execution_count": null,
   "id": "323b9c87",
   "metadata": {},
   "outputs": [],
   "source": [
    "# insert data into table\n",
    "df_costumer.to_sql('costumer', con=conn, if_exists='append', index=False)"
   ]
  },
  {
   "cell_type": "code",
   "execution_count": null,
   "id": "44a1b707",
   "metadata": {},
   "outputs": [],
   "source": [
    "query_select = \"\"\"\n",
    "    SELECT * FROM costumer\n",
    "\"\"\"\n",
    "\n",
    "table = pd.read_sql_query(query_select, conn)\n",
    "table.head()"
   ]
  },
  {
   "cell_type": "markdown",
   "id": "93ade2af",
   "metadata": {},
   "source": [
    "# 3 - Loading Others Datasets"
   ]
  },
  {
   "cell_type": "markdown",
   "id": "efeef36e",
   "metadata": {},
   "source": [
    "### Geolocation"
   ]
  },
  {
   "cell_type": "code",
   "execution_count": 16,
   "id": "e61dd70b",
   "metadata": {},
   "outputs": [
    {
     "data": {
      "text/plain": [
       "geolocation_zip_code_prefix      int64\n",
       "geolocation_lat                float64\n",
       "geolocation_lng                float64\n",
       "geolocation_city                object\n",
       "geolocation_state               object\n",
       "dtype: object"
      ]
     },
     "execution_count": 16,
     "metadata": {},
     "output_type": "execute_result"
    }
   ],
   "source": [
    "df_geolocation = pd.read_csv('database/olist_geolocation_dataset.csv')\n",
    "df_geolocation.dtypes"
   ]
  },
  {
   "cell_type": "code",
   "execution_count": 34,
   "id": "025d46af",
   "metadata": {},
   "outputs": [
    {
     "data": {
      "text/plain": [
       "1000163"
      ]
     },
     "execution_count": 34,
     "metadata": {},
     "output_type": "execute_result"
    }
   ],
   "source": [
    "schema_geolocation = \"\"\"\n",
    "    CREATE TABLE geolocation(\n",
    "        geolocation_zip_code_prefix      INTEGER,\n",
    "        geolocation_lat                  REAL,\n",
    "        geolocation_lng                  REAL,\n",
    "        geolocation_city                 TEXT,\n",
    "        geolocation_state                TEXT\n",
    "    )\n",
    "\"\"\"\n",
    "\n",
    "# create schema\n",
    "conn.execute(schema_geolocation)\n",
    "# insert data into table\n",
    "df_geolocation.to_sql('geolocation', con=conn, if_exists='append', index=False)"
   ]
  },
  {
   "cell_type": "markdown",
   "id": "e6987c6e",
   "metadata": {},
   "source": [
    "### Order Items"
   ]
  },
  {
   "cell_type": "code",
   "execution_count": 17,
   "id": "f84f5361",
   "metadata": {},
   "outputs": [
    {
     "data": {
      "text/plain": [
       "order_id                object\n",
       "order_item_id            int64\n",
       "product_id              object\n",
       "seller_id               object\n",
       "shipping_limit_date     object\n",
       "price                  float64\n",
       "freight_value          float64\n",
       "dtype: object"
      ]
     },
     "execution_count": 17,
     "metadata": {},
     "output_type": "execute_result"
    }
   ],
   "source": [
    "# dataset order items\n",
    "df_order_items = pd.read_csv('database/olist_order_items_dataset.csv')\n",
    "df_order_items.dtypes"
   ]
  },
  {
   "cell_type": "code",
   "execution_count": 18,
   "id": "89dadaa2",
   "metadata": {},
   "outputs": [
    {
     "data": {
      "text/plain": [
       "112650"
      ]
     },
     "execution_count": 18,
     "metadata": {},
     "output_type": "execute_result"
    }
   ],
   "source": [
    "schema_order_items = \"\"\"\n",
    "    CREATE TABLE order_items(\n",
    "        order_id               TEXT,\n",
    "        order_item_id          INTEGER,\n",
    "        product_id             TEXT,\n",
    "        seller_id              TEXT,\n",
    "        shipping_limit_date    TEXT,\n",
    "        price                  REAL,\n",
    "        freight_value          REAL\n",
    "    )\n",
    "\"\"\"\n",
    "\n",
    "# create schema\n",
    "conn.execute(schema_order_items)\n",
    "# insert data into table\n",
    "df_order_items.to_sql('order_items', con=conn, if_exists='append', index=False)"
   ]
  },
  {
   "cell_type": "markdown",
   "id": "684efeb0",
   "metadata": {},
   "source": [
    "### Order Payments"
   ]
  },
  {
   "cell_type": "code",
   "execution_count": 20,
   "id": "acb4bd55",
   "metadata": {},
   "outputs": [
    {
     "data": {
      "text/plain": [
       "order_id                 object\n",
       "payment_sequential        int64\n",
       "payment_type             object\n",
       "payment_installments      int64\n",
       "payment_value           float64\n",
       "dtype: object"
      ]
     },
     "execution_count": 20,
     "metadata": {},
     "output_type": "execute_result"
    }
   ],
   "source": [
    "df_order_payments = pd.read_csv('database/olist_order_payments_dataset.csv')\n",
    "df_order_payments.dtypes"
   ]
  },
  {
   "cell_type": "code",
   "execution_count": 21,
   "id": "bee71120",
   "metadata": {},
   "outputs": [
    {
     "data": {
      "text/plain": [
       "103886"
      ]
     },
     "execution_count": 21,
     "metadata": {},
     "output_type": "execute_result"
    }
   ],
   "source": [
    "schema_order_payments = \"\"\"\n",
    "    CREATE TABLE order_payments(\n",
    "        order_id                 TEXT,\n",
    "        payment_sequential       INTEGER,\n",
    "        payment_type             TEXT,\n",
    "        payment_installments     INTEGER,\n",
    "        payment_value            REAL\n",
    "    )\n",
    "\"\"\"\n",
    "\n",
    "# create schema\n",
    "conn.execute(schema_order_payments)\n",
    "# insert data into table\n",
    "df_order_payments.to_sql('order_payments', con=conn, if_exists='append', index=False)"
   ]
  },
  {
   "cell_type": "markdown",
   "id": "f463bb6a",
   "metadata": {},
   "source": [
    "### Order Reviews"
   ]
  },
  {
   "cell_type": "code",
   "execution_count": 23,
   "id": "b1a00ce8",
   "metadata": {},
   "outputs": [
    {
     "data": {
      "text/plain": [
       "review_id                  object\n",
       "order_id                   object\n",
       "review_score                int64\n",
       "review_comment_title       object\n",
       "review_comment_message     object\n",
       "review_creation_date       object\n",
       "review_answer_timestamp    object\n",
       "dtype: object"
      ]
     },
     "execution_count": 23,
     "metadata": {},
     "output_type": "execute_result"
    }
   ],
   "source": [
    "df_order_reviews = pd.read_csv('database/olist_order_reviews_dataset.csv')\n",
    "df_order_reviews.dtypes"
   ]
  },
  {
   "cell_type": "code",
   "execution_count": 24,
   "id": "d46ac480",
   "metadata": {},
   "outputs": [
    {
     "data": {
      "text/plain": [
       "99224"
      ]
     },
     "execution_count": 24,
     "metadata": {},
     "output_type": "execute_result"
    }
   ],
   "source": [
    "schema_order_reviews = \"\"\"\n",
    "    CREATE TABLE order_reviews(\n",
    "        review_id                  TEXT,\n",
    "        order_id                   TEXT,\n",
    "        review_score               INTEGER,\n",
    "        review_comment_title       TEXT,\n",
    "        review_comment_message     TEXT,\n",
    "        review_creation_date       TEXT,\n",
    "        review_answer_timestamp    TEXT\n",
    "    )\n",
    "\"\"\"\n",
    "\n",
    "# create schema\n",
    "conn.execute(schema_order_reviews)\n",
    "# insert data into table\n",
    "df_order_reviews.to_sql('order_reviews', con=conn, if_exists='append', index=False)"
   ]
  },
  {
   "cell_type": "markdown",
   "id": "c73b945d",
   "metadata": {},
   "source": [
    "### Orders"
   ]
  },
  {
   "cell_type": "code",
   "execution_count": 25,
   "id": "6069c62d",
   "metadata": {},
   "outputs": [
    {
     "data": {
      "text/plain": [
       "order_id                         object\n",
       "customer_id                      object\n",
       "order_status                     object\n",
       "order_purchase_timestamp         object\n",
       "order_approved_at                object\n",
       "order_delivered_carrier_date     object\n",
       "order_delivered_customer_date    object\n",
       "order_estimated_delivery_date    object\n",
       "dtype: object"
      ]
     },
     "execution_count": 25,
     "metadata": {},
     "output_type": "execute_result"
    }
   ],
   "source": [
    "df_orders = pd.read_csv('database/olist_orders_dataset.csv')\n",
    "df_orders.dtypes"
   ]
  },
  {
   "cell_type": "code",
   "execution_count": 26,
   "id": "6008dd7e",
   "metadata": {},
   "outputs": [
    {
     "data": {
      "text/plain": [
       "99441"
      ]
     },
     "execution_count": 26,
     "metadata": {},
     "output_type": "execute_result"
    }
   ],
   "source": [
    "schema_orders = \"\"\"\n",
    "    CREATE TABLE orders(\n",
    "        order_id                         TEXT,\n",
    "        customer_id                      TEXT,\n",
    "        order_status                     TEXT,\n",
    "        order_purchase_timestamp         TEXT,\n",
    "        order_approved_at                TEXT,\n",
    "        order_delivered_carrier_date     TEXT,\n",
    "        order_delivered_customer_date    TEXT,\n",
    "        order_estimated_delivery_date    TEXT\n",
    "    )\n",
    "\"\"\"\n",
    "\n",
    "# create schema\n",
    "conn.execute(schema_orders)\n",
    "# insert data into table\n",
    "df_orders.to_sql('orders', con=conn, if_exists='append', index=False)"
   ]
  },
  {
   "cell_type": "markdown",
   "id": "052a94da",
   "metadata": {},
   "source": [
    "### Products"
   ]
  },
  {
   "cell_type": "code",
   "execution_count": 27,
   "id": "29d9b9c3",
   "metadata": {},
   "outputs": [
    {
     "data": {
      "text/plain": [
       "product_id                     object\n",
       "product_category_name          object\n",
       "product_name_lenght           float64\n",
       "product_description_lenght    float64\n",
       "product_photos_qty            float64\n",
       "product_weight_g              float64\n",
       "product_length_cm             float64\n",
       "product_height_cm             float64\n",
       "product_width_cm              float64\n",
       "dtype: object"
      ]
     },
     "execution_count": 27,
     "metadata": {},
     "output_type": "execute_result"
    }
   ],
   "source": [
    "df_products = pd.read_csv('database/olist_products_dataset.csv')\n",
    "df_products.dtypes"
   ]
  },
  {
   "cell_type": "code",
   "execution_count": 28,
   "id": "24a958e4",
   "metadata": {},
   "outputs": [
    {
     "data": {
      "text/plain": [
       "32951"
      ]
     },
     "execution_count": 28,
     "metadata": {},
     "output_type": "execute_result"
    }
   ],
   "source": [
    "schema_products = \"\"\"\n",
    "    CREATE TABLE products(\n",
    "        product_id                    TEXT,\n",
    "        product_category_name         TEXT,\n",
    "        product_name_lenght           INTEGER,\n",
    "        product_description_lenght    INTEGER,\n",
    "        product_photos_qty            INTEGER,\n",
    "        product_weight_g              INTEGER,\n",
    "        product_length_cm             INTEGER,\n",
    "        product_height_cm             INTEGER,\n",
    "        product_width_cm              INTEGER\n",
    "    )\n",
    "\"\"\"\n",
    "\n",
    "# create schema\n",
    "conn.execute(schema_products)\n",
    "# insert data into table\n",
    "df_products.to_sql('products', con=conn, if_exists='append', index=False)"
   ]
  },
  {
   "cell_type": "markdown",
   "id": "61aac335",
   "metadata": {},
   "source": [
    "### Sellers"
   ]
  },
  {
   "cell_type": "code",
   "execution_count": 29,
   "id": "893004b4",
   "metadata": {},
   "outputs": [
    {
     "data": {
      "text/plain": [
       "seller_id                 object\n",
       "seller_zip_code_prefix     int64\n",
       "seller_city               object\n",
       "seller_state              object\n",
       "dtype: object"
      ]
     },
     "execution_count": 29,
     "metadata": {},
     "output_type": "execute_result"
    }
   ],
   "source": [
    "df_sellers = pd.read_csv('database/olist_sellers_dataset.csv')\n",
    "df_sellers.dtypes"
   ]
  },
  {
   "cell_type": "code",
   "execution_count": 30,
   "id": "3a837d96",
   "metadata": {},
   "outputs": [
    {
     "data": {
      "text/plain": [
       "3095"
      ]
     },
     "execution_count": 30,
     "metadata": {},
     "output_type": "execute_result"
    }
   ],
   "source": [
    "schema_sellers = \"\"\"\n",
    "    CREATE TABLE sellers(\n",
    "        seller_id                 TEXT,\n",
    "        seller_zip_code_prefix    INTEGER,\n",
    "        seller_city               TEXT,\n",
    "        seller_state              TEXT\n",
    "    )\n",
    "\"\"\"\n",
    "\n",
    "# create schema\n",
    "conn.execute(schema_sellers)\n",
    "# insert data into table\n",
    "df_sellers.to_sql('sellers', con=conn, if_exists='append', index=False)"
   ]
  },
  {
   "cell_type": "markdown",
   "id": "d688f98b",
   "metadata": {},
   "source": [
    "### Product Category Name"
   ]
  },
  {
   "cell_type": "code",
   "execution_count": 31,
   "id": "73186d42",
   "metadata": {},
   "outputs": [
    {
     "data": {
      "text/plain": [
       "product_category_name            object\n",
       "product_category_name_english    object\n",
       "dtype: object"
      ]
     },
     "execution_count": 31,
     "metadata": {},
     "output_type": "execute_result"
    }
   ],
   "source": [
    "df_product_category_name = pd.read_csv('database/)\n",
    "df_product_category_name.dtypes"
   ]
  },
  {
   "cell_type": "code",
   "execution_count": 32,
   "id": "f7c14511",
   "metadata": {},
   "outputs": [
    {
     "data": {
      "text/plain": [
       "71"
      ]
     },
     "execution_count": 32,
     "metadata": {},
     "output_type": "execute_result"
    }
   ],
   "source": [
    "schema_product_category_name = \"\"\"\n",
    "    CREATE TABLE product_category_name(\n",
    "        product_category_name            TEXT,\n",
    "        product_category_name_english    TEXT\n",
    "    )\n",
    "\"\"\"\n",
    "\n",
    "# create schema\n",
    "conn.execute(schema_product_category_name)\n",
    "# insert data into table\n",
    "df_product_category_name.to_sql('product_category_name', con=conn, if_exists='append', index=False)"
   ]
  },
  {
   "cell_type": "markdown",
   "id": "6704115a",
   "metadata": {},
   "source": [
    "# Check Tables"
   ]
  },
  {
   "cell_type": "code",
   "execution_count": 17,
   "id": "2dbdd425",
   "metadata": {},
   "outputs": [
    {
     "data": {
      "text/html": [
       "<div>\n",
       "<style scoped>\n",
       "    .dataframe tbody tr th:only-of-type {\n",
       "        vertical-align: middle;\n",
       "    }\n",
       "\n",
       "    .dataframe tbody tr th {\n",
       "        vertical-align: top;\n",
       "    }\n",
       "\n",
       "    .dataframe thead th {\n",
       "        text-align: right;\n",
       "    }\n",
       "</style>\n",
       "<table border=\"1\" class=\"dataframe\">\n",
       "  <thead>\n",
       "    <tr style=\"text-align: right;\">\n",
       "      <th></th>\n",
       "      <th>name</th>\n",
       "    </tr>\n",
       "  </thead>\n",
       "  <tbody>\n",
       "    <tr>\n",
       "      <th>0</th>\n",
       "      <td>costumer</td>\n",
       "    </tr>\n",
       "    <tr>\n",
       "      <th>1</th>\n",
       "      <td>order_items</td>\n",
       "    </tr>\n",
       "    <tr>\n",
       "      <th>2</th>\n",
       "      <td>order_payments</td>\n",
       "    </tr>\n",
       "    <tr>\n",
       "      <th>3</th>\n",
       "      <td>order_reviews</td>\n",
       "    </tr>\n",
       "    <tr>\n",
       "      <th>4</th>\n",
       "      <td>orders</td>\n",
       "    </tr>\n",
       "    <tr>\n",
       "      <th>5</th>\n",
       "      <td>products</td>\n",
       "    </tr>\n",
       "    <tr>\n",
       "      <th>6</th>\n",
       "      <td>sellers</td>\n",
       "    </tr>\n",
       "    <tr>\n",
       "      <th>7</th>\n",
       "      <td>product_category_name</td>\n",
       "    </tr>\n",
       "    <tr>\n",
       "      <th>8</th>\n",
       "      <td>geolocation</td>\n",
       "    </tr>\n",
       "  </tbody>\n",
       "</table>\n",
       "</div>"
      ],
      "text/plain": [
       "                    name\n",
       "0               costumer\n",
       "1            order_items\n",
       "2         order_payments\n",
       "3          order_reviews\n",
       "4                 orders\n",
       "5               products\n",
       "6                sellers\n",
       "7  product_category_name\n",
       "8            geolocation"
      ]
     },
     "execution_count": 17,
     "metadata": {},
     "output_type": "execute_result"
    }
   ],
   "source": [
    "query = \"\"\"\n",
    "    SELECT name\n",
    "    FROM sqlite_master\n",
    "    WHERE type = 'table'\n",
    "\"\"\"\n",
    "\n",
    "table = pd.read_sql_query(query, conn)\n",
    "table"
   ]
  },
  {
   "cell_type": "code",
   "execution_count": 13,
   "id": "3a63201a",
   "metadata": {},
   "outputs": [],
   "source": [
    "conn.close()\n",
    "db.dispose()"
   ]
  },
  {
   "cell_type": "code",
   "execution_count": 14,
   "id": "eb4af5c4",
   "metadata": {},
   "outputs": [
    {
     "data": {
      "text/plain": [
       "Engine(sqlite:///db_olist.sqlite)"
      ]
     },
     "execution_count": 14,
     "metadata": {},
     "output_type": "execute_result"
    }
   ],
   "source": [
    "db"
   ]
  },
  {
   "cell_type": "code",
   "execution_count": null,
   "id": "13e6f029",
   "metadata": {},
   "outputs": [],
   "source": []
  }
 ],
 "metadata": {
  "kernelspec": {
   "display_name": "Python 3 (ipykernel)",
   "language": "python",
   "name": "python3"
  },
  "language_info": {
   "codemirror_mode": {
    "name": "ipython",
    "version": 3
   },
   "file_extension": ".py",
   "mimetype": "text/x-python",
   "name": "python",
   "nbconvert_exporter": "python",
   "pygments_lexer": "ipython3",
   "version": "3.8.13"
  }
 },
 "nbformat": 4,
 "nbformat_minor": 5
}
