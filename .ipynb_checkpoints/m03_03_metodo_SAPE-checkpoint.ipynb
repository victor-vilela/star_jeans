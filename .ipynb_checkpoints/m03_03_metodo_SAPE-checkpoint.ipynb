{
 "cells": [
  {
   "cell_type": "markdown",
   "id": "e02efb9c",
   "metadata": {},
   "source": [
    "# Modulo 03 - O Método SAPE"
   ]
  },
  {
   "cell_type": "markdown",
   "id": "1bc88d12",
   "metadata": {},
   "source": [
    "## 3.1- Estruturando a entrega do problema de negócio"
   ]
  },
  {
   "cell_type": "markdown",
   "id": "05ba60ac",
   "metadata": {},
   "source": [
    "## 3.2- O problema de negócio"
   ]
  },
  {
   "cell_type": "markdown",
   "id": "952b2a27",
   "metadata": {},
   "source": [
    "### 3.2.1- A empresa Star Jeans!"
   ]
  },
  {
   "cell_type": "markdown",
   "id": "a364ce98",
   "metadata": {},
   "source": [
    "Eduardo e Marcelo são dois brasileiros, amigos e sócios de empreendimento. Depois de vários\n",
    "negócio bem sucedidos, eles estão planejando entrar no mercado de moda dos USA como um\n",
    "modelo de negócio do tipo E-commerce.<br>\n",
    "A idéia inicial é entrar no mercado com apenas um produto e para um público específico, no caso\n",
    "o produto seria calças Jenas para o público masculino. O objetivo é manter o custo de operação\n",
    "baixo e escalar a medida que forem conseguindo clientes.<br>\n",
    "Porém, mesmo com o produto de entrada e a audiência definidos, os dois sócios não tem experiência\n",
    "nesse mercado de moda e portanto não sabem definir coisas básicas como preço, o tipo de calça e\n",
    "o material para a fabricação de cada peça.<br>\n",
    "Assim, os dois sócios contrataram uma consultoria de Ciência de Dados para responder as seguintes\n",
    "perguntas: \n",
    "1. Qual o melhor preço de venda para as calças? \n",
    "2. Quantos tipos de calças e suas cores para o produto inicial? \n",
    "3. Quais as matérias-prima necessárias para confeccionar as calças?\n",
    "\n",
    "As principais concorrentes da empresa Start Jeans são as americadas H&M e Macys."
   ]
  },
  {
   "cell_type": "markdown",
   "id": "58197c50",
   "metadata": {},
   "source": [
    "## 3.3- Planejamento da Solução - O método SAPE"
   ]
  },
  {
   "cell_type": "markdown",
   "id": "5cc5cc39",
   "metadata": {},
   "source": [
    "## 3.4-  Problema de Negócio"
   ]
  },
  {
   "cell_type": "markdown",
   "id": "67244b69",
   "metadata": {},
   "source": [
    "- Qual o melhor preço de venda para calças?"
   ]
  },
  {
   "cell_type": "markdown",
   "id": "7ebaccb4",
   "metadata": {},
   "source": [
    "## 3.5-  Saída: ( Produto final )"
   ]
  },
  {
   "cell_type": "markdown",
   "id": "a025aa20",
   "metadata": {},
   "source": [
    "1. A resposta para a pergunta.\n",
    "2. Formato da entrega\n",
    "3. Local da entrega"
   ]
  },
  {
   "cell_type": "markdown",
   "id": "e1e2821b",
   "metadata": {},
   "source": [
    "## 3.6 Processo ( Passo a Passo )"
   ]
  },
  {
   "cell_type": "markdown",
   "id": "421aece4",
   "metadata": {},
   "source": [
    "1. Passo a passso para construir o cálculo da mediana ou média\n",
    "2. Definir o formato da entrega ( Visualização, Tabela, Frase )\n",
    "3. Decidir o local de entrega ( PowerBi, Telegram, Email, Streamlit, Intranet )"
   ]
  },
  {
   "cell_type": "markdown",
   "id": "ea805b44",
   "metadata": {},
   "source": [
    "## 3.7 Entrada ( Fonte de dados )"
   ]
  },
  {
   "cell_type": "markdown",
   "id": "e38cb038",
   "metadata": {},
   "source": [
    "1. Fonte de dados\n",
    "2. Ferramentas"
   ]
  },
  {
   "cell_type": "code",
   "execution_count": null,
   "id": "d58cd5aa",
   "metadata": {},
   "outputs": [],
   "source": []
  }
 ],
 "metadata": {
  "kernelspec": {
   "display_name": "Python 3 (ipykernel)",
   "language": "python",
   "name": "python3"
  },
  "language_info": {
   "codemirror_mode": {
    "name": "ipython",
    "version": 3
   },
   "file_extension": ".py",
   "mimetype": "text/x-python",
   "name": "python",
   "nbconvert_exporter": "python",
   "pygments_lexer": "ipython3",
   "version": "3.8.13"
  }
 },
 "nbformat": 4,
 "nbformat_minor": 5
}
