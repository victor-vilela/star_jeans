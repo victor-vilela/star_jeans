{
 "cells": [
  {
   "cell_type": "markdown",
   "id": "c19ea38f",
   "metadata": {},
   "source": [
    "# Modulo 03 - Pensamento Analítico"
   ]
  },
  {
   "cell_type": "markdown",
   "id": "a8344cbf",
   "metadata": {},
   "source": [
    "## 1- O que é um pensamento analítico"
   ]
  },
  {
   "cell_type": "markdown",
   "id": "8308752f",
   "metadata": {},
   "source": [
    "### 1.1- As etapas do Pensamento Analítico"
   ]
  },
  {
   "cell_type": "markdown",
   "id": "8a76bf2f",
   "metadata": {},
   "source": [
    "1. Identificação da causa raíz\n",
    "2. Definir um escopo fechado para uma pergunta aberta.\n",
    "3. Quebrar o problema definido em tarefas menores.\n",
    "4. Organizar as tarefas por ordem lógica.\n",
    "5. Executar com uma mentalidade cíclica."
   ]
  },
  {
   "cell_type": "markdown",
   "id": "c9c424a1",
   "metadata": {},
   "source": [
    "### 1.2- Exemplo"
   ]
  },
  {
   "cell_type": "markdown",
   "id": "6544a282",
   "metadata": {},
   "source": [
    "#### 1.2.1- Questão de Negócio: Qual o melhor preço de venda do produto?\n",
    "\n",
    "1. Identificação da causa raíz<br>\n",
    "* Motivação: Qual o contexto?<br>\n",
    "    * A empresa está entrando no mercado de varejo de moda dos USA e não tem expertise para precificar o produto.\n",
    "    * Definição do preço para maximizar o lucro.\n",
    "* Qual é a causa raíz do problema?\n",
    "    * Precificação de produto.\n",
    "    * Preço ótimo para maximizar o lucro.\n",
    "2. Definir um escopo fechado para uma pergunta aberta.\n",
    "* Pergunta aberta: Qual o melhor preço de venda do produto\n",
    "* Escopo fechado: Produto | Tempo | Localidade | atributo do produto.\n",
    "    * Mediana dos precos dos sites concorrentes por produto, tipo e cor dos últimos 30 dias.\n",
    "3. Quebrar o problema definido em tarefas menores. - Mediana dos precos dos sites concorrentes por produto, tipo e cor dos últimos 30 dias.<br><br>\n",
    "<b>Tarefas:</b>\n",
    "- Calcular a mediana de preço dos sites concorrentes por produto, tipo e cor dos últi- Montar uma base de dados que contenha informações do produto, preço, tipo, cor, dia- Define o schema ( colunas do tabela )\n",
    "- Define a infraestrutura ( banco de dados, csv, API )\n",
    "- Design do ETL\n",
    "- Agendamento da atualização da tabela\n",
    "- Entrega do produto final\n",
    "4. Organizar as tarefas por ordem lógica.\n",
    "1. Montar uma base de dados que contenha informações do produto, preço, tipo, cor, dias de exposição.\n",
    "2. Define o Schema\n",
    "3. Define a Infraestrutura\n",
    "4. Fazer o ETL\n",
    "5. Calcular a mediana de preço dos sites concorrentes por produto, tipo e cor dos últimos 30 dias.\n",
    "6. Fazer a visualização do produto final\n",
    "7. Entregar do produto final\n",
    "5. Executar com uma mentalidade cíclica.\n",
    "1. Eu preciso passar por todas as tarefas o mais rápido possível para:\n",
    "1. Identificar bloqueios\n",
    "2. Identificar impeditivos que possam desvalidar o projeto\n",
    "3. Entregar valor para empresa rapidamente\n",
    "2. Fazer escolhas simple ( Keep it Simples )"
   ]
  },
  {
   "cell_type": "code",
   "execution_count": null,
   "id": "9286d967",
   "metadata": {},
   "outputs": [],
   "source": []
  }
 ],
 "metadata": {
  "kernelspec": {
   "display_name": "Python 3 (ipykernel)",
   "language": "python",
   "name": "python3"
  },
  "language_info": {
   "codemirror_mode": {
    "name": "ipython",
    "version": 3
   },
   "file_extension": ".py",
   "mimetype": "text/x-python",
   "name": "python",
   "nbconvert_exporter": "python",
   "pygments_lexer": "ipython3",
   "version": "3.8.13"
  }
 },
 "nbformat": 4,
 "nbformat_minor": 5
}
