{
 "cells": [
  {
   "cell_type": "markdown",
   "id": "6fc960ef",
   "metadata": {},
   "source": [
    "# Modulo 06 - Módulo Avançado"
   ]
  },
  {
   "cell_type": "markdown",
   "id": "25ad1091",
   "metadata": {},
   "source": [
    "## Apply, Map, Lambda"
   ]
  },
  {
   "cell_type": "markdown",
   "id": "1f1e3cb4",
   "metadata": {},
   "source": [
    "### APPLY"
   ]
  },
  {
   "cell_type": "markdown",
   "id": "9e56893e",
   "metadata": {},
   "source": [
    "O que é: uma maneira semelhante ao MAP de aplicar uma função pré-definida a uma estrutura de dados. (apply é um método específico da biblioteca 'pandas' e pode ser chamado pelo .apply)"
   ]
  },
  {
   "cell_type": "code",
   "execution_count": 2,
   "id": "60e001bc",
   "metadata": {},
   "outputs": [],
   "source": [
    "import pandas as pd"
   ]
  },
  {
   "cell_type": "code",
   "execution_count": 12,
   "id": "71cdb6d3",
   "metadata": {},
   "outputs": [
    {
     "data": {
      "text/html": [
       "<div>\n",
       "<style scoped>\n",
       "    .dataframe tbody tr th:only-of-type {\n",
       "        vertical-align: middle;\n",
       "    }\n",
       "\n",
       "    .dataframe tbody tr th {\n",
       "        vertical-align: top;\n",
       "    }\n",
       "\n",
       "    .dataframe thead th {\n",
       "        text-align: right;\n",
       "    }\n",
       "</style>\n",
       "<table border=\"1\" class=\"dataframe\">\n",
       "  <thead>\n",
       "    <tr style=\"text-align: right;\">\n",
       "      <th></th>\n",
       "      <th>nome</th>\n",
       "      <th>peso</th>\n",
       "      <th>altura</th>\n",
       "      <th>imc</th>\n",
       "    </tr>\n",
       "  </thead>\n",
       "  <tbody>\n",
       "    <tr>\n",
       "      <th>0</th>\n",
       "      <td>nome1</td>\n",
       "      <td>80</td>\n",
       "      <td>170</td>\n",
       "      <td>47.62</td>\n",
       "    </tr>\n",
       "    <tr>\n",
       "      <th>1</th>\n",
       "      <td>nome2</td>\n",
       "      <td>70</td>\n",
       "      <td>165</td>\n",
       "      <td>41.92</td>\n",
       "    </tr>\n",
       "    <tr>\n",
       "      <th>2</th>\n",
       "      <td>nome3</td>\n",
       "      <td>65</td>\n",
       "      <td>150</td>\n",
       "      <td>43.92</td>\n",
       "    </tr>\n",
       "  </tbody>\n",
       "</table>\n",
       "</div>"
      ],
      "text/plain": [
       "    nome  peso  altura    imc\n",
       "0  nome1    80     170  47.62\n",
       "1  nome2    70     165  41.92\n",
       "2  nome3    65     150  43.92"
      ]
     },
     "execution_count": 12,
     "metadata": {},
     "output_type": "execute_result"
    }
   ],
   "source": [
    "# dataframe\n",
    "df = pd.DataFrame([['nome1',80,170],['nome2',70,165],['nome3',65,150]],\n",
    "                  columns = ['nome','peso','altura'] )\n",
    "# função pré-definida\n",
    "f_imc = lambda p, a: p / a ^ 2\n",
    "# apply\n",
    "# df[['peso','altura']].apply(f_imc , axis=1)\n",
    "df['imc'] = df.apply(lambda x: round(x['peso'] / (x['altura'] ^ 2)*100, 2) , axis=1)\n",
    "df"
   ]
  },
  {
   "cell_type": "markdown",
   "id": "90d3f387",
   "metadata": {},
   "source": [
    "### MAP"
   ]
  },
  {
   "cell_type": "markdown",
   "id": "bfedb0bf",
   "metadata": {},
   "source": [
    "O que é: uma maneira de aplicar uma função pré-definida em uma dada estrutura de dados."
   ]
  },
  {
   "cell_type": "code",
   "execution_count": 19,
   "id": "4643046a",
   "metadata": {},
   "outputs": [
    {
     "data": {
      "text/plain": [
       "['a', 'b', 'c', 'd', 'e', 'f', 'g', 'h', 'i', 'j']"
      ]
     },
     "execution_count": 19,
     "metadata": {},
     "output_type": "execute_result"
    }
   ],
   "source": [
    "lista = ['A','B','C','D','E','F','G','H','I','J']\n",
    "# função pré-definida\n",
    "snakecase = lambda x: x.lower()\n",
    "# map\n",
    "list( map( snakecase, lista ) )"
   ]
  },
  {
   "cell_type": "markdown",
   "id": "e59355d3",
   "metadata": {},
   "source": [
    "### LAMBDA"
   ]
  },
  {
   "cell_type": "markdown",
   "id": "fb537bc8",
   "metadata": {},
   "source": [
    "O que é: uma maneira alternativa de definir uma função. O método tradicional é através do 'def'.<br>\n",
    "Método Tradicional: resume trechos repetitivos de comandos reutilizados em outras partes do código. Ideal para realizar cálculos e tarefas complexas."
   ]
  },
  {
   "cell_type": "code",
   "execution_count": 22,
   "id": "ece38091",
   "metadata": {},
   "outputs": [],
   "source": [
    "def calculation (a,b):\n",
    "    c = a + b\n",
    "    return c"
   ]
  },
  {
   "cell_type": "code",
   "execution_count": 23,
   "id": "a7c74133",
   "metadata": {},
   "outputs": [
    {
     "data": {
      "text/plain": [
       "30"
      ]
     },
     "execution_count": 23,
     "metadata": {},
     "output_type": "execute_result"
    }
   ],
   "source": [
    "calculation(10,20)"
   ]
  },
  {
   "cell_type": "markdown",
   "id": "b227283d",
   "metadata": {},
   "source": [
    "Método Alternativo: sintetiza cálculos locais simples de maneira concisa e direta"
   ]
  },
  {
   "cell_type": "code",
   "execution_count": 25,
   "id": "a748834a",
   "metadata": {},
   "outputs": [
    {
     "data": {
      "text/plain": [
       "30"
      ]
     },
     "execution_count": 25,
     "metadata": {},
     "output_type": "execute_result"
    }
   ],
   "source": [
    "f_calculation = lambda a, b: a+b\n",
    "f_calculation(10,20)"
   ]
  },
  {
   "cell_type": "code",
   "execution_count": null,
   "id": "67e8be0c",
   "metadata": {},
   "outputs": [],
   "source": []
  }
 ],
 "metadata": {
  "kernelspec": {
   "display_name": "Python 3 (ipykernel)",
   "language": "python",
   "name": "python3"
  },
  "language_info": {
   "codemirror_mode": {
    "name": "ipython",
    "version": 3
   },
   "file_extension": ".py",
   "mimetype": "text/x-python",
   "name": "python",
   "nbconvert_exporter": "python",
   "pygments_lexer": "ipython3",
   "version": "3.8.13"
  }
 },
 "nbformat": 4,
 "nbformat_minor": 5
}
