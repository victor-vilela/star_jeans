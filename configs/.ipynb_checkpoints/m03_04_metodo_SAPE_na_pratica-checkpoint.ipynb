{
 "cells": [
  {
   "cell_type": "markdown",
   "id": "3739bf51",
   "metadata": {},
   "source": [
    "# Modulo 03 - O Método SAPE na prática"
   ]
  },
  {
   "cell_type": "markdown",
   "id": "75cbcb72",
   "metadata": {},
   "source": [
    "## 4- O método SAPE na prática"
   ]
  },
  {
   "cell_type": "markdown",
   "id": "1d81297b",
   "metadata": {},
   "source": [
    "### 4.1- Problema de Negócio"
   ]
  },
  {
   "cell_type": "markdown",
   "id": "e2ed7922",
   "metadata": {},
   "source": [
    "- Qual o melhor preço de venda para calças?"
   ]
  },
  {
   "cell_type": "markdown",
   "id": "bb178800",
   "metadata": {},
   "source": [
    "### 4.2- Saída: ( Produto final )"
   ]
  },
  {
   "cell_type": "markdown",
   "id": "54fcc4a2",
   "metadata": {},
   "source": [
    "1. A resposta para a pergunta.\n",
    "    - Mediana dos preços dos concorrents.\n",
    "2. Formato da entrega\n",
    "    - Tabela ou gráfico\n",
    "3. Local da entrega\n",
    "    - App Streamlit"
   ]
  },
  {
   "cell_type": "markdown",
   "id": "0bfb5ec1",
   "metadata": {},
   "source": [
    "### 4.3-  Processo ( Passo a Passo )"
   ]
  },
  {
   "cell_type": "markdown",
   "id": "8dea7603",
   "metadata": {},
   "source": [
    "1. Passo a passso para construir o cálculo da mediana ou média\n",
    "    - Realizar o calculo da mediana sobre o produto, tipo e cor\n",
    "2. Definir o formato da entrega ( Visualização, Tabela, Frase )\n",
    "    - Gráfico de barras com a mediana dos preço dos produtos, por tipo e cor dos últimos 30 dia- Tabela com as seguintes colunas: id | product_name | product_type | product_color | produ- Definição do schema: Colunas e seu tipo\n",
    "    - Definição a infraestrutura de armazenamento ( SQLITE3 )\n",
    "    - Design do ETL ( Scripts de Extração, Transformação e Carga )\n",
    "    - Planejamento de Agendamento dos scripts ( dependencias entre os scripts )\n",
    "    - Fazer as visualizações\n",
    "    - Entrega do produto final\n",
    "3. Decidir o local de entrega ( PowerBi, Telegram, Email, Streamlit, Intranet )\n",
    "    - App com Streamlit\n"
   ]
  },
  {
   "cell_type": "markdown",
   "id": "3d84b2cd",
   "metadata": {},
   "source": [
    "### 4.4- Entrada ( Fonte de dados )"
   ]
  },
  {
   "cell_type": "markdown",
   "id": "d2571f79",
   "metadata": {},
   "source": [
    "1. Fonte de dados\n",
    "    - Site da H&M: https://www2.hm.com/en_us/men/products/jeans.html\n",
    "    - Site da Macys: https://www.macys.com/shop/mens-clothing/mens-jeans\n",
    "2. Ferramentas\n",
    "    - Python 3.8.0\n",
    "    - Bibliotecas de Webscrapping ( BS4, Selenium )\n",
    "    - PyCharm\n",
    "    - Jupyter Notebook ( Analise e prototipagens )\n",
    "    - Crontjob, Airflow\n",
    "    - Streamlit"
   ]
  },
  {
   "cell_type": "code",
   "execution_count": null,
   "id": "53a63d69",
   "metadata": {},
   "outputs": [],
   "source": []
  }
 ],
 "metadata": {
  "kernelspec": {
   "display_name": "Python 3 (ipykernel)",
   "language": "python",
   "name": "python3"
  },
  "language_info": {
   "codemirror_mode": {
    "name": "ipython",
    "version": 3
   },
   "file_extension": ".py",
   "mimetype": "text/x-python",
   "name": "python",
   "nbconvert_exporter": "python",
   "pygments_lexer": "ipython3",
   "version": "3.8.13"
  }
 },
 "nbformat": 4,
 "nbformat_minor": 5
}
