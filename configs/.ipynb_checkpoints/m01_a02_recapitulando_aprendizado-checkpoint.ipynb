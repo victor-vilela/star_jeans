{
 "cells": [
  {
   "cell_type": "markdown",
   "id": "2071880a",
   "metadata": {},
   "source": [
    "# Curso de Python do DS ao Dev"
   ]
  },
  {
   "cell_type": "markdown",
   "id": "d8648d7e",
   "metadata": {},
   "source": [
    "## Aula 2 - Recapitulando aprendizado até agora"
   ]
  },
  {
   "cell_type": "markdown",
   "id": "8adc6f0e",
   "metadata": {},
   "source": [
    "### 2.1 - Resumindo todo o aprendizado até agora"
   ]
  },
  {
   "cell_type": "markdown",
   "id": "0da2969b",
   "metadata": {},
   "source": [
    "* Aula 01: Começando com Python\n",
    "    * O problema de negócio\n",
    "    * Planejamento da solução\n",
    "<br><br>\n",
    "    \n",
    "* Aula 02: Extração e Manipulação de Dados\n",
    "    * Tipo de variáveis\n",
    "    * Transforma os tipos de dados\n",
    "<br><br>\n",
    "    \n",
    "* Aula 03: Transformação de Dados\n",
    "    * Estrutura de dados\n",
    "    * Transformação de dados\n",
    "<br><br>\n",
    "    \n",
    "* Aula 04: Estrutura de controle\n",
    "    * Estrutura de Dados - list\n",
    "    * Estrutura de Controle - Condicionais\n",
    "    * Estrutura de Controle - Laços\n",
    "<br><br>\n",
    "    \n",
    "* Aula 05: Funções\n",
    "    * O código macarrônico\n",
    "    * O que são funções\n",
    "<br><br>\n",
    "    \n",
    "* Aula 06: Visualização de dados\n",
    "    * Planejamento do dashboard \n",
    "    * Visualizações iterativas\n",
    "<br><br>\n",
    "    \n",
    "* Aula 07: Visualização de dados II\n",
    "    * Dashboard no Streamlit\n",
    "    * Publicar o dashboard no Heroku\n",
    "<br><br>\n",
    "    \n",
    "* Aula 08: Projetos de Insights\n",
    "    * O que eram insights?\n",
    "    * Organização dos projetos em portfolio\n",
    "<br><br>"
   ]
  },
  {
   "cell_type": "code",
   "execution_count": null,
   "id": "fad139af",
   "metadata": {},
   "outputs": [],
   "source": []
  }
 ],
 "metadata": {
  "kernelspec": {
   "display_name": "Python 3 (ipykernel)",
   "language": "python",
   "name": "python3"
  },
  "language_info": {
   "codemirror_mode": {
    "name": "ipython",
    "version": 3
   },
   "file_extension": ".py",
   "mimetype": "text/x-python",
   "name": "python",
   "nbconvert_exporter": "python",
   "pygments_lexer": "ipython3",
   "version": "3.8.13"
  }
 },
 "nbformat": 4,
 "nbformat_minor": 5
}
