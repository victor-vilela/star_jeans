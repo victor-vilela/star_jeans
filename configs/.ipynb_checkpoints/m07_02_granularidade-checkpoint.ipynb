{
 "cells": [
  {
   "cell_type": "markdown",
   "id": "24576390",
   "metadata": {},
   "source": [
    "# O que é Granularidade?"
   ]
  },
  {
   "cell_type": "markdown",
   "id": "008819f2",
   "metadata": {},
   "source": [
    "Granularidade é o nível de detalhe no qual o dado é armazenado no banco de dados.<br>\n",
    "( Jan L. Harrington, in Relational Database Design and Implementation)"
   ]
  },
  {
   "cell_type": "code",
   "execution_count": null,
   "id": "445cffc3",
   "metadata": {},
   "outputs": [],
   "source": []
  }
 ],
 "metadata": {
  "kernelspec": {
   "display_name": "Python 3 (ipykernel)",
   "language": "python",
   "name": "python3"
  },
  "language_info": {
   "codemirror_mode": {
    "name": "ipython",
    "version": 3
   },
   "file_extension": ".py",
   "mimetype": "text/x-python",
   "name": "python",
   "nbconvert_exporter": "python",
   "pygments_lexer": "ipython3",
   "version": "3.8.13"
  }
 },
 "nbformat": 4,
 "nbformat_minor": 5
}
