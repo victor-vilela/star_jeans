{
 "cells": [
  {
   "cell_type": "markdown",
   "id": "5f63b0de",
   "metadata": {},
   "source": [
    "# Modulo 05 - Extração de Dados em HTML"
   ]
  },
  {
   "cell_type": "markdown",
   "id": "9e7ae894",
   "metadata": {},
   "source": [
    "## 2 - O método SAPE"
   ]
  },
  {
   "cell_type": "markdown",
   "id": "d2fe6a42",
   "metadata": {},
   "source": [
    "1. Qual o melhor preço de venda para as calças?\n",
    "2. Quantos tipos de calças e suas cores para o produto inicial?\n",
    "3. Quais as matérias-prima necessárias para confeccionar as calças?\n",
    "\n",
    "<b>Saída ( o produto final)</b>\n",
    "\n",
    "1. Resposta para a pergunta\n",
    "    - A mediana dos valores dos produtos do site dos concorrentes.\n",
    "2. Formato\n",
    "    - Tabela ou gráfico\n",
    "3. Local de entrega\n",
    "    - App no Streamlit\n",
    "\n",
    "<b> Processo ( passo a passo )</b>\n",
    "\n",
    "1. Passo a passo para calcular a resposta?\n",
    "    - Mediana do preço por categoria e tipo.\n",
    "2. Como será o gráfico ou tabela final?\n",
    "    - Simulação da tabela final\n",
    "3. Como será o local de entrega?\n",
    "    - Dashboard em um app no Streamlit e publicá-lo no Heroku.\n",
    "    \n",
    "<b>Entradas ( fontes de dados )</b>\n",
    "\n",
    "1. H&M: https://www2.hm.com/en_us/men/products/jeans.html\n",
    "2. Macys: https://www.macys.com/shop/mens-clothing/mens-jeans"
   ]
  },
  {
   "cell_type": "code",
   "execution_count": null,
   "id": "39c92bca",
   "metadata": {},
   "outputs": [],
   "source": []
  }
 ],
 "metadata": {
  "kernelspec": {
   "display_name": "Python 3 (ipykernel)",
   "language": "python",
   "name": "python3"
  },
  "language_info": {
   "codemirror_mode": {
    "name": "ipython",
    "version": 3
   },
   "file_extension": ".py",
   "mimetype": "text/x-python",
   "name": "python",
   "nbconvert_exporter": "python",
   "pygments_lexer": "ipython3",
   "version": "3.8.13"
  }
 },
 "nbformat": 4,
 "nbformat_minor": 5
}
